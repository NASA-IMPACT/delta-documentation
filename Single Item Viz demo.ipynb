{
 "cells": [
  {
   "cell_type": "code",
   "execution_count": 39,
   "id": "1061f724",
   "metadata": {},
   "outputs": [],
   "source": [
    "import requests as re\n",
    "from ipyleaflet import Map, basemaps, basemap_to_tiles, TileLayer\n",
    "\n",
    "STAC_ENDPOINT_URL = \"https://staging-stac.delta-backend.xyz\"\n",
    "RASTER_ENDPOINT_URL = \"https://staging-raster.delta-backend.xyz\""
   ]
  },
  {
   "cell_type": "code",
   "execution_count": 71,
   "id": "59052865",
   "metadata": {
    "scrolled": true
   },
   "outputs": [
    {
     "data": {
      "text/plain": [
       "{'id': 'no2-monthly',\n",
       " 'type': 'Collection',\n",
       " 'links': [{'rel': 'items',\n",
       "   'type': 'application/geo+json',\n",
       "   'href': 'https://staging-stac.delta-backend.xyz/collections/no2-monthly/items'},\n",
       "  {'rel': 'parent',\n",
       "   'type': 'application/json',\n",
       "   'href': 'https://staging-stac.delta-backend.xyz/'},\n",
       "  {'rel': 'root',\n",
       "   'type': 'application/json',\n",
       "   'href': 'https://staging-stac.delta-backend.xyz/'},\n",
       "  {'rel': 'self',\n",
       "   'type': 'application/json',\n",
       "   'href': 'https://staging-stac.delta-backend.xyz/collections/no2-monthly'}],\n",
       " 'title': 'NO₂',\n",
       " 'extent': {'spatial': {'bbox': [[-180, -90, 180, 90]]},\n",
       "  'temporal': {'interval': [['2016-01-01T00:00:00Z',\n",
       "     '2022-01-01T00:00:00Z']]}},\n",
       " 'license': 'MIT',\n",
       " 'summaries': {'datetime': ['2016-01-01T00:00:00Z', '2022-05-01T00:00:00Z'],\n",
       "  'cog_default': {'max': 50064805976866816, 'min': -6618294421291008}},\n",
       " 'description': 'Darker colors indicate higher nitrogen dioxide (NO₂) levels and more activity. Lighter colors indicate lower levels of NO₂ and less activity. Missing pixels indicate areas of no data most likely associated with cloud cover or snow.',\n",
       " 'item_assets': {'cog_default': {'type': 'image/tiff; application=geotiff; profile=cloud-optimized',\n",
       "   'roles': ['data', 'layer'],\n",
       "   'title': 'Default COG Layer',\n",
       "   'description': 'Cloud optimized default layer to display on map'}},\n",
       " 'stac_version': '1.0.0',\n",
       " 'stac_extensions': ['https://stac-extensions.github.io/item-assets/v1.0.0/schema.json'],\n",
       " 'dashboard:is_periodic': True,\n",
       " 'dashboard:time_density': 'month'}"
      ]
     },
     "execution_count": 71,
     "metadata": {},
     "output_type": "execute_result"
    }
   ],
   "source": [
    "no2_collection_summary = re.get(f\"{STAC_ENDPOINT_URL}/collections/no2-monthly\").json()\n",
    "no2_collection_summary"
   ]
  },
  {
   "cell_type": "code",
   "execution_count": 72,
   "id": "7bc42fff",
   "metadata": {},
   "outputs": [
    {
     "data": {
      "text/plain": [
       "{'max': 50064805976866816, 'min': -6618294421291008}"
      ]
     },
     "execution_count": 72,
     "metadata": {},
     "output_type": "execute_result"
    }
   ],
   "source": [
    "rescale_values = no2_collection_summary[\"summaries\"][\"cog_default\"]\n",
    "rescale_values"
   ]
  },
  {
   "cell_type": "code",
   "execution_count": 61,
   "id": "b5eb7467",
   "metadata": {},
   "outputs": [],
   "source": [
    "response = re.post(\n",
    "    f\"{STAC_ENDPOINT_URL}/search\", \n",
    "    json={\n",
    "        \"collections\": [\"no2-monthly\"], \n",
    "        \"query\": {\"datetime\": {\"eq\":\"2021-01-01T00:00:00\"}},\n",
    "        \"limit\": 100\n",
    "    }\n",
    ").json()\n",
    "item = response[\"features\"][0]\n",
    "item"
   ]
  },
  {
   "cell_type": "code",
   "execution_count": 77,
   "id": "71acb916",
   "metadata": {},
   "outputs": [
    {
     "data": {
      "text/plain": [
       "{'tilejson': '2.2.0',\n",
       " 'version': '1.0.0',\n",
       " 'scheme': 'xyz',\n",
       " 'tiles': ['https://staging-raster.delta-backend.xyz/stac/tiles/WebMercatorQuad/{z}/{x}/{y}@1x?collection=no2-monthly&item=OMI_trno2_monthly_0.10x0.10_202101_Col3_V4.nc&assets=cog_default&color_formula=gamma+r+1.05&colormap_name=rdbu_r&rescale=0%2C15000000000000000'],\n",
       " 'minzoom': 0,\n",
       " 'maxzoom': 24,\n",
       " 'bounds': [-180.0, -90.0, 180.0, 90.0],\n",
       " 'center': [0.0, 0.0, 0]}"
      ]
     },
     "execution_count": 77,
     "metadata": {},
     "output_type": "execute_result"
    }
   ],
   "source": [
    "tiles = re.get(\n",
    "    f\"{RASTER_ENDPOINT_URL}/stac/tilejson.json?collection={item['collection']}&item={item['id']}&assets=cog_default&color_formula=gamma+r+1.05&colormap_name=rdbu_r&rescale=0%2C15000000000000000\", \n",
    ").json()\n",
    "tiles"
   ]
  },
  {
   "cell_type": "code",
   "execution_count": 78,
   "id": "b4792eed",
   "metadata": {},
   "outputs": [
    {
     "data": {
      "application/vnd.jupyter.widget-view+json": {
       "model_id": "411164ed477749ccb1357debfe1fa93f",
       "version_major": 2,
       "version_minor": 0
      },
      "text/plain": [
       "Map(center=[0.0, 0.0], controls=(ZoomControl(options=['position', 'zoom_in_text', 'zoom_in_title', 'zoom_out_t…"
      ]
     },
     "metadata": {},
     "output_type": "display_data"
    }
   ],
   "source": [
    "m = Map(\n",
    "    zoom=2,\n",
    "    scroll_wheel_zoom=True\n",
    ")\n",
    "no2_layer = TileLayer(url=tiles[\"tiles\"][0], minzoom=18, maxzoom=0, show_loading=True)\n",
    "\n",
    "m.add_layer(no2_layer)\n",
    "m"
   ]
  }
 ],
 "metadata": {
  "kernelspec": {
   "display_name": "VEDA Documentation",
   "language": "python",
   "name": "env-veda-documentation"
  },
  "language_info": {
   "codemirror_mode": {
    "name": "ipython",
    "version": 3
   },
   "file_extension": ".py",
   "mimetype": "text/x-python",
   "name": "python",
   "nbconvert_exporter": "python",
   "pygments_lexer": "ipython3",
   "version": "3.9.13"
  }
 },
 "nbformat": 4,
 "nbformat_minor": 5
}
