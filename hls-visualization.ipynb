{
 "cells": [
  {
   "cell_type": "markdown",
   "metadata": {},
   "source": [
    "# Multi-Band Visualization Preview for Harmonized Landsat Sentinel-2 (HLS) with Common Query Language (CQL2-JSON)\n",
    "This notebook demonstrates how to\n",
    "1. Identify available dates within a bounding box defining an event area for a given collection\n",
    "2. Register a dynamic tiler search for an event and specific date range for a given collection\n",
    "3. Explore different options for displaying multi-band harmonized Landsat and Sentinel assets with the raster-api\n",
    "\n",
    "**About the Data**\n",
    "A small subset of HLS data has been ingested to the VEDA datastore to explore visualizations using the raster API ([pgstac-titiler](https://github.com/stac-utils/titiler-pgstac)). This limited subset includes a single granule each for visualizing changes before and after Hurricane Maria in 2017 and Hurricane Ida in 2021. Note about HLS datasets: The Sentinel and Landsat assets have been harmonized and can be used interchangeably in algorithms but the individual band assets are specific to each provider. This notebook focuses on displaying HLS data with a dynamic tiler so separate examples are provided for rendering the unique band assets of each collection.\n",
    "\n",
    "**Additional Resources**\n",
    "\n",
    "[HLSL30 Dataset Landing Page](https://lpdaac.usgs.gov/products/hlsl30v002/)\n",
    "\n",
    "[Landsat 8 Bands and Combinations Blog](https://www.l3harrisgeospatial.com/Learn/Blogs/Blog-Details/ArtMID/10198/ArticleID/15691/The-Many-Band-Combinations-of-Landsat-8)\n",
    "\n",
    "[HLSS30 Dataset Landing Page](https://lpdaac.usgs.gov/products/hlss30v002/)\n",
    "\n",
    "[Sentinel 2 Bands and Combinations Blog](https://gisgeography.com/sentinel-2-bands-combinations/)\n",
    "\n",
    "[CQL2 STAC-API Examples](https://github.com/radiantearth/stac-api-spec/tree/master/fragments/filter#examples)\n",
    "\n",
    "- Author: Alexandra Kirk\n",
    "- Last Updated Date: June 30, 2022"
   ]
  },
  {
   "cell_type": "code",
   "execution_count": 1,
   "metadata": {},
   "outputs": [],
   "source": [
    "import json\n",
    "import requests\n",
    "from folium import Map, TileLayer"
   ]
  },
  {
   "cell_type": "markdown",
   "metadata": {},
   "source": [
    "## Exploring the stac catalog - curated parameters for investigating specific hurricane events with the dynamic tiler and custom band combinations\n",
    "Notebook examples focus on HLS S30 data for Hurricane Ida but Hurricane Maria and LS30 parameters are provided below for further exploration"
   ]
  },
  {
   "cell_type": "code",
   "execution_count": 2,
   "metadata": {},
   "outputs": [],
   "source": [
    "# Endpoints\n",
    "stac_base_url = \"https://staging-stac.delta-backend.com\"\n",
    "raster_base_url = \"https://staging-raster.delta-backend.com\" \n",
    "\n",
    "# Harmonized Sentinel collection id and configuration info\n",
    "s30_collection_id = \"hls-s30-002-ej-reprocessed\"\n",
    "s30_swir_assets = [\"B12\",\"B8A\",\"B04\"]\n",
    "s30_vegetation_index_assets = [\"B08\", \"B04\"]\n",
    "s30_vegetation_index_expression = \"(B08-B04)/(B08+B04)\"\n",
    "s30_vegetation_index_rescaling = \"0,1\"\n",
    "s30_vegetation_index_colormap = \"rdylgn\"\n",
    "\n",
    "# Harmonized Landsat collection id and map configuration info\n",
    "l30_collection_id = \"hls-l30-002-ej-reprocessed\"\n",
    "l30_swir_assets = [\"B07\",\"B05\",\"B04\"]\n",
    "l30_ndwi_expression = \"(B03-B05)/(B03+B05)\"\n",
    "l30_ndwi_assets = [\"B03\", \"B05\"]\n",
    "l30_ndwi_rescaling = \"0,1\"\n",
    "l30_ndwi_colormap = \"spectral\"\n",
    "\n",
    "# Search criteria for events in both HLS Events collections\n",
    "maria_bbox = [-66.167596, 17.961538, -65.110098, 18.96772]\n",
    "maria_temporal_range = [\"2017-06-06T00:00:00Z\", \"2017-11-30T00:00:00Z\"]\n",
    "\n",
    "ida_bbox = [-90.932637, 29.705366, -89.766437, 30.71627]\n",
    "ida_temporal_range = [\"2021-07-01T00:00:00Z\", \"2021-10-28T00:00:00Z\"]"
   ]
  },
  {
   "cell_type": "markdown",
   "metadata": {},
   "source": [
    "### First search the STAC api for items for specific dates available\n",
    "This search body can be used with both the STAC and raster APIs, we will restrict the temporal range for mosaicing"
   ]
  },
  {
   "cell_type": "code",
   "execution_count": 3,
   "metadata": {},
   "outputs": [
    {
     "name": "stdout",
     "output_type": "stream",
     "text": [
      "search context: {'limit': 10, 'matched': 14, 'returned': 10}\n"
     ]
    },
    {
     "data": {
      "text/plain": [
       "['2021-07-14T16:55:15.122720Z',\n",
       " '2021-07-24T16:55:15.112940Z',\n",
       " '2021-07-29T16:55:16.405890Z',\n",
       " '2021-08-08T16:55:15.798510Z',\n",
       " '2021-08-13T16:55:13.394950Z',\n",
       " '2021-08-23T16:55:11.785040Z',\n",
       " '2021-09-02T16:55:09.568600Z',\n",
       " '2021-09-07T16:55:13.430530Z',\n",
       " '2021-09-22T16:55:10.763010Z',\n",
       " '2021-09-27T16:55:17.027350Z',\n",
       " '2021-10-07T16:55:18.213640Z',\n",
       " '2021-10-12T16:55:14.209080Z',\n",
       " '2021-10-17T16:55:18.517600Z',\n",
       " '2021-10-22T16:55:14.670710Z']"
      ]
     },
     "execution_count": 3,
     "metadata": {},
     "output_type": "execute_result"
    }
   ],
   "source": [
    "collections_filter = {\n",
    "    \"op\": \"=\", \n",
    "    \"args\" : [{ \"property\": \"collection\" }, s30_collection_id]\n",
    "}\n",
    "\n",
    "spatial_filter = {\n",
    "    \"op\": \"s_intersects\",\n",
    "    \"args\": [\n",
    "        {\"property\": \"bbox\"}, ida_bbox\n",
    "    ]\n",
    "}\n",
    "\n",
    "temporal_filter = {\n",
    "    \"op\": \"t_intersects\",\n",
    "    \"args\": [\n",
    "        { \"property\": \"datetime\" },\n",
    "        { \"interval\" : ida_temporal_range }\n",
    "    ]\n",
    "}\n",
    "\n",
    "# Additional filters can be applied for other search criteria like <= maximum eo:cloud_cover in item properties\n",
    "cloud_filter = {\n",
    "    \"op\": \"<=\",\n",
    "    \"args\": [\n",
    "        {\"property\": \"eo:cloud_cover\"},\n",
    "        80\n",
    "    ]\n",
    "}\n",
    "\n",
    "# Specify cql2-json filter language in search body and add context for a summary of matched results\n",
    "search_body = {\n",
    "    \"filter-lang\": \"cql2-json\",\n",
    "    \"context\": \"on\",\n",
    "    \"filter\": {\n",
    "        \"op\": \"and\",\n",
    "        \"args\": [\n",
    "            collections_filter,\n",
    "            spatial_filter,\n",
    "            temporal_filter,\n",
    "            cloud_filter\n",
    "        ]\n",
    "    }\n",
    "}\n",
    "\n",
    "# Note this search body can also be used for a stac item search \n",
    "stac_items_response = requests.post(\n",
    "    f\"{stac_base_url}/search\",\n",
    "    json=search_body,\n",
    ").json()\n",
    "\n",
    "# Check how many items were matched in searc\n",
    "print(\"search context:\", stac_items_response[\"context\"])\n",
    "\n",
    "# Iterate over search results to get an array of unique item datetimes\n",
    "datetimes = []\n",
    "features = stac_items_response[\"features\"]\n",
    "datetimes += [item[\"properties\"][\"datetime\"] for item in features]\n",
    "next_link = next((link for link in stac_items_response[\"links\"] if link[\"rel\"] == \"next\"), None)\n",
    "while next_link:\n",
    "    stac_items_response = requests.post(\n",
    "        f\"{stac_base_url}/search\",\n",
    "        json=next_link[\"body\"],\n",
    "    ).json()\n",
    "    features = stac_items_response[\"features\"]\n",
    "    datetimes += [item[\"properties\"][\"datetime\"] for item in features]\n",
    "    next_link = next((link for link in stac_items_response[\"links\"] if link[\"rel\"] == \"next\"), False)\n",
    "\n",
    "sorted(datetimes)"
   ]
  },
  {
   "cell_type": "markdown",
   "metadata": {},
   "source": [
    "## Visualizing the data on a map\n",
    "The VEDA backend is based on [eoAPI](https://github.com/developmentseed/eoAPI#earth-observation-api), application for searching and tiling earth observation STAC records. The application uses titiler-pgstac for dynamically mosaicing cloud optimized data from a registerd stac-api search.\n",
    "\n",
    "To use the dynamic tiler, [register a STAC item search and then use the registered search ID to dynamically mosaic the search results on the map](https://github.com/stac-utils/titiler-pgstac/blob/master/docs/intro.md#mosaic)."
   ]
  },
  {
   "cell_type": "markdown",
   "metadata": {},
   "source": [
    "### Update temporal range in search body and register that search with the raster API\n",
    "The registered search id can be reused for alternate map layer visualizations"
   ]
  },
  {
   "cell_type": "code",
   "execution_count": 4,
   "metadata": {},
   "outputs": [
    {
     "name": "stdout",
     "output_type": "stream",
     "text": [
      "{\n",
      " \"searchid\": \"7743bcb31bff7151aff7e5508785fce1\",\n",
      " \"links\": [\n",
      "  {\n",
      "   \"rel\": \"metadata\",\n",
      "   \"type\": \"application/json\",\n",
      "   \"href\": \"https://staging-raster.delta-backend.com/mosaic/7743bcb31bff7151aff7e5508785fce1/info\"\n",
      "  },\n",
      "  {\n",
      "   \"rel\": \"tilejson\",\n",
      "   \"type\": \"application/json\",\n",
      "   \"href\": \"https://staging-raster.delta-backend.com/mosaic/7743bcb31bff7151aff7e5508785fce1/tilejson.json\"\n",
      "  }\n",
      " ]\n",
      "}\n"
     ]
    }
   ],
   "source": [
    "# Restricted date range \n",
    "restricted_temporal_filter = {\n",
    "    \"op\": \"t_intersects\",\n",
    "    \"args\": [\n",
    "        { \"property\": \"datetime\" },\n",
    "        { \"interval\" : [ \"2021-10-16T00:00:00Z\", \"2021-10-18T00:00:00Z\"] }\n",
    "    ]\n",
    "}\n",
    "\n",
    "# Specify cql2-json filter language in search body\n",
    "search_body = {\n",
    "    \"filter-lang\": \"cql2-json\",\n",
    "    \"filter\": {\n",
    "        \"op\": \"and\",\n",
    "        \"args\": [\n",
    "            collections_filter,\n",
    "            spatial_filter,\n",
    "            restricted_temporal_filter\n",
    "        ]\n",
    "    }\n",
    "}\n",
    "\n",
    "mosaic_response = requests.post(\n",
    "    f\"{raster_base_url}/mosaic/register\",\n",
    "    json=search_body,\n",
    ").json()\n",
    "print(json.dumps(mosaic_response, indent=1))"
   ]
  },
  {
   "cell_type": "markdown",
   "metadata": {},
   "source": [
    "### Configure map formatting parameters\n",
    "See the [raster-api/docs](https://staging-raster.delta-backend.com/docs#/Mosaic/tile_mosaic_tiles__searchid___z___x___y___format__get) for more formatting options"
   ]
  },
  {
   "cell_type": "markdown",
   "metadata": {},
   "source": [
    "## Built in SWIR post processing algorithm\n",
    "Note that the band assets for HLS S30 are selected, the equivalent SWIR band assets for L30 are provided at the top of this notebook"
   ]
  },
  {
   "cell_type": "code",
   "execution_count": 5,
   "metadata": {},
   "outputs": [
    {
     "name": "stdout",
     "output_type": "stream",
     "text": [
      "{\n",
      " \"tilejson\": \"2.2.0\",\n",
      " \"name\": \"7743bcb31bff7151aff7e5508785fce1\",\n",
      " \"version\": \"1.0.0\",\n",
      " \"scheme\": \"xyz\",\n",
      " \"tiles\": [\n",
      "  \"https://staging-raster.delta-backend.com/mosaic/tiles/7743bcb31bff7151aff7e5508785fce1/WebMercatorQuad/{z}/{x}/{y}@1x?post_process=swir&assets=B12&assets=B8A&assets=B04\"\n",
      " ],\n",
      " \"minzoom\": 6,\n",
      " \"maxzoom\": 12,\n",
      " \"bounds\": [\n",
      "  -180.0,\n",
      "  -85.0511287798066,\n",
      "  180.0,\n",
      "  85.0511287798066\n",
      " ],\n",
      " \"center\": [\n",
      "  0.0,\n",
      "  0.0,\n",
      "  6\n",
      " ]\n",
      "}\n"
     ]
    }
   ],
   "source": [
    "# Set up format for Map API url\n",
    "# Get base url for tiler from the register mosaic request\n",
    "tiles_href = next(link[\"href\"] for link in mosaic_response[\"links\"] if link[\"rel\"]==\"tilejson\")\n",
    "\n",
    "# Add additional map formatting parameters to tiles url\n",
    "tilejson_response = requests.get(\n",
    "    tiles_href,\n",
    "    params={\n",
    "        # Info to add to the tilejson response\n",
    "        \"minzoom\": 6,\n",
    "        \"maxzoom\": 12,\n",
    "        \"post_process\": \"swir\",\n",
    "        \"assets\": s30_swir_assets\n",
    "    }\n",
    ").json()\n",
    "print(json.dumps(tilejson_response, indent=1))"
   ]
  },
  {
   "cell_type": "markdown",
   "metadata": {},
   "source": [
    "### Display the data on a map"
   ]
  },
  {
   "cell_type": "code",
   "execution_count": 6,
   "metadata": {},
   "outputs": [
    {
     "data": {
      "text/html": [
       "<div style=\"width:100%;\"><div style=\"position:relative;width:100%;height:0;padding-bottom:60%;\"><span style=\"color:#565656\">Make this Notebook Trusted to load map: File -> Trust Notebook</span><iframe src=\"about:blank\" style=\"position:absolute;width:100%;height:100%;left:0;top:0;border:none !important;\" data-html=%3C%21DOCTYPE%20html%3E%0A%3Chead%3E%20%20%20%20%0A%20%20%20%20%3Cmeta%20http-equiv%3D%22content-type%22%20content%3D%22text/html%3B%20charset%3DUTF-8%22%20/%3E%0A%20%20%20%20%0A%20%20%20%20%20%20%20%20%3Cscript%3E%0A%20%20%20%20%20%20%20%20%20%20%20%20L_NO_TOUCH%20%3D%20false%3B%0A%20%20%20%20%20%20%20%20%20%20%20%20L_DISABLE_3D%20%3D%20false%3B%0A%20%20%20%20%20%20%20%20%3C/script%3E%0A%20%20%20%20%0A%20%20%20%20%3Cstyle%3Ehtml%2C%20body%20%7Bwidth%3A%20100%25%3Bheight%3A%20100%25%3Bmargin%3A%200%3Bpadding%3A%200%3B%7D%3C/style%3E%0A%20%20%20%20%3Cstyle%3E%23map%20%7Bposition%3Aabsolute%3Btop%3A0%3Bbottom%3A0%3Bright%3A0%3Bleft%3A0%3B%7D%3C/style%3E%0A%20%20%20%20%3Cscript%20src%3D%22https%3A//cdn.jsdelivr.net/npm/leaflet%401.6.0/dist/leaflet.js%22%3E%3C/script%3E%0A%20%20%20%20%3Cscript%20src%3D%22https%3A//code.jquery.com/jquery-1.12.4.min.js%22%3E%3C/script%3E%0A%20%20%20%20%3Cscript%20src%3D%22https%3A//maxcdn.bootstrapcdn.com/bootstrap/3.2.0/js/bootstrap.min.js%22%3E%3C/script%3E%0A%20%20%20%20%3Cscript%20src%3D%22https%3A//cdnjs.cloudflare.com/ajax/libs/Leaflet.awesome-markers/2.0.2/leaflet.awesome-markers.js%22%3E%3C/script%3E%0A%20%20%20%20%3Clink%20rel%3D%22stylesheet%22%20href%3D%22https%3A//cdn.jsdelivr.net/npm/leaflet%401.6.0/dist/leaflet.css%22/%3E%0A%20%20%20%20%3Clink%20rel%3D%22stylesheet%22%20href%3D%22https%3A//maxcdn.bootstrapcdn.com/bootstrap/3.2.0/css/bootstrap.min.css%22/%3E%0A%20%20%20%20%3Clink%20rel%3D%22stylesheet%22%20href%3D%22https%3A//maxcdn.bootstrapcdn.com/bootstrap/3.2.0/css/bootstrap-theme.min.css%22/%3E%0A%20%20%20%20%3Clink%20rel%3D%22stylesheet%22%20href%3D%22https%3A//maxcdn.bootstrapcdn.com/font-awesome/4.6.3/css/font-awesome.min.css%22/%3E%0A%20%20%20%20%3Clink%20rel%3D%22stylesheet%22%20href%3D%22https%3A//cdnjs.cloudflare.com/ajax/libs/Leaflet.awesome-markers/2.0.2/leaflet.awesome-markers.css%22/%3E%0A%20%20%20%20%3Clink%20rel%3D%22stylesheet%22%20href%3D%22https%3A//cdn.jsdelivr.net/gh/python-visualization/folium/folium/templates/leaflet.awesome.rotate.min.css%22/%3E%0A%20%20%20%20%0A%20%20%20%20%20%20%20%20%20%20%20%20%3Cmeta%20name%3D%22viewport%22%20content%3D%22width%3Ddevice-width%2C%0A%20%20%20%20%20%20%20%20%20%20%20%20%20%20%20%20initial-scale%3D1.0%2C%20maximum-scale%3D1.0%2C%20user-scalable%3Dno%22%20/%3E%0A%20%20%20%20%20%20%20%20%20%20%20%20%3Cstyle%3E%0A%20%20%20%20%20%20%20%20%20%20%20%20%20%20%20%20%23map_e62fc8a971ad46d0a44224e56a023ae8%20%7B%0A%20%20%20%20%20%20%20%20%20%20%20%20%20%20%20%20%20%20%20%20position%3A%20relative%3B%0A%20%20%20%20%20%20%20%20%20%20%20%20%20%20%20%20%20%20%20%20width%3A%20100.0%25%3B%0A%20%20%20%20%20%20%20%20%20%20%20%20%20%20%20%20%20%20%20%20height%3A%20100.0%25%3B%0A%20%20%20%20%20%20%20%20%20%20%20%20%20%20%20%20%20%20%20%20left%3A%200.0%25%3B%0A%20%20%20%20%20%20%20%20%20%20%20%20%20%20%20%20%20%20%20%20top%3A%200.0%25%3B%0A%20%20%20%20%20%20%20%20%20%20%20%20%20%20%20%20%7D%0A%20%20%20%20%20%20%20%20%20%20%20%20%3C/style%3E%0A%20%20%20%20%20%20%20%20%0A%3C/head%3E%0A%3Cbody%3E%20%20%20%20%0A%20%20%20%20%0A%20%20%20%20%20%20%20%20%20%20%20%20%3Cdiv%20class%3D%22folium-map%22%20id%3D%22map_e62fc8a971ad46d0a44224e56a023ae8%22%20%3E%3C/div%3E%0A%20%20%20%20%20%20%20%20%0A%3C/body%3E%0A%3Cscript%3E%20%20%20%20%0A%20%20%20%20%0A%20%20%20%20%20%20%20%20%20%20%20%20var%20map_e62fc8a971ad46d0a44224e56a023ae8%20%3D%20L.map%28%0A%20%20%20%20%20%20%20%20%20%20%20%20%20%20%20%20%22map_e62fc8a971ad46d0a44224e56a023ae8%22%2C%0A%20%20%20%20%20%20%20%20%20%20%20%20%20%20%20%20%7B%0A%20%20%20%20%20%20%20%20%20%20%20%20%20%20%20%20%20%20%20%20center%3A%20%5B30.210818000000003%2C%20-90.349537%5D%2C%0A%20%20%20%20%20%20%20%20%20%20%20%20%20%20%20%20%20%20%20%20crs%3A%20L.CRS.EPSG3857%2C%0A%20%20%20%20%20%20%20%20%20%20%20%20%20%20%20%20%20%20%20%20zoom%3A%2011%2C%0A%20%20%20%20%20%20%20%20%20%20%20%20%20%20%20%20%20%20%20%20zoomControl%3A%20true%2C%0A%20%20%20%20%20%20%20%20%20%20%20%20%20%20%20%20%20%20%20%20preferCanvas%3A%20false%2C%0A%20%20%20%20%20%20%20%20%20%20%20%20%20%20%20%20%7D%0A%20%20%20%20%20%20%20%20%20%20%20%20%29%3B%0A%0A%20%20%20%20%20%20%20%20%20%20%20%20%0A%0A%20%20%20%20%20%20%20%20%0A%20%20%20%20%0A%20%20%20%20%20%20%20%20%20%20%20%20var%20tile_layer_10e2d319bf5e4f039dec28426d23c83d%20%3D%20L.tileLayer%28%0A%20%20%20%20%20%20%20%20%20%20%20%20%20%20%20%20%22https%3A//%7Bs%7D.tile.openstreetmap.org/%7Bz%7D/%7Bx%7D/%7By%7D.png%22%2C%0A%20%20%20%20%20%20%20%20%20%20%20%20%20%20%20%20%7B%22attribution%22%3A%20%22Data%20by%20%5Cu0026copy%3B%20%5Cu003ca%20href%3D%5C%22http%3A//openstreetmap.org%5C%22%5Cu003eOpenStreetMap%5Cu003c/a%5Cu003e%2C%20under%20%5Cu003ca%20href%3D%5C%22http%3A//www.openstreetmap.org/copyright%5C%22%5Cu003eODbL%5Cu003c/a%5Cu003e.%22%2C%20%22detectRetina%22%3A%20false%2C%20%22maxNativeZoom%22%3A%2018%2C%20%22maxZoom%22%3A%2018%2C%20%22minZoom%22%3A%200%2C%20%22noWrap%22%3A%20false%2C%20%22opacity%22%3A%201%2C%20%22subdomains%22%3A%20%22abc%22%2C%20%22tms%22%3A%20false%7D%0A%20%20%20%20%20%20%20%20%20%20%20%20%29.addTo%28map_e62fc8a971ad46d0a44224e56a023ae8%29%3B%0A%20%20%20%20%20%20%20%20%0A%20%20%20%20%0A%20%20%20%20%20%20%20%20%20%20%20%20var%20tile_layer_e2b76d33f1564a61a8815346f42bf5a0%20%3D%20L.tileLayer%28%0A%20%20%20%20%20%20%20%20%20%20%20%20%20%20%20%20%22https%3A//staging-raster.delta-backend.com/mosaic/tiles/7743bcb31bff7151aff7e5508785fce1/WebMercatorQuad/%7Bz%7D/%7Bx%7D/%7By%7D%401x%3Fpost_process%3Dswir%5Cu0026assets%3DB12%5Cu0026assets%3DB8A%5Cu0026assets%3DB04%22%2C%0A%20%20%20%20%20%20%20%20%20%20%20%20%20%20%20%20%7B%22attribution%22%3A%20%22Mosaic%22%2C%20%22detectRetina%22%3A%20false%2C%20%22maxNativeZoom%22%3A%2018%2C%20%22maxZoom%22%3A%2018%2C%20%22minZoom%22%3A%200%2C%20%22noWrap%22%3A%20false%2C%20%22opacity%22%3A%201%2C%20%22subdomains%22%3A%20%22abc%22%2C%20%22tms%22%3A%20false%7D%0A%20%20%20%20%20%20%20%20%20%20%20%20%29.addTo%28map_e62fc8a971ad46d0a44224e56a023ae8%29%3B%0A%20%20%20%20%20%20%20%20%0A%3C/script%3E onload=\"this.contentDocument.open();this.contentDocument.write(    decodeURIComponent(this.getAttribute('data-html')));this.contentDocument.close();\" allowfullscreen webkitallowfullscreen mozallowfullscreen></iframe></div></div>"
      ],
      "text/plain": [
       "<folium.folium.Map at 0x7fde4779a3d0>"
      ]
     },
     "execution_count": 6,
     "metadata": {},
     "output_type": "execute_result"
    }
   ],
   "source": [
    "# Use bbox initial zoom and map\n",
    "# Set up a map located w/in event bounds\n",
    "zoom_start = 11\n",
    "m = Map(\n",
    "    tiles=\"OpenStreetMap\",\n",
    "    location=((ida_bbox[1] + ida_bbox[3]) / 2,(ida_bbox[0] + ida_bbox[2]) / 2),\n",
    "    zoom_start=zoom_start\n",
    ")\n",
    "\n",
    "# Add the formatted map layer\n",
    "map_layer = TileLayer(\n",
    "    tiles=tilejson_response[\"tiles\"][0],\n",
    "    attr=\"Mosaic\",  \n",
    ")\n",
    "map_layer.add_to(m)\n",
    "m"
   ]
  },
  {
   "cell_type": "markdown",
   "metadata": {},
   "source": [
    "### Format and render tiles using custom formatting\n",
    "The titiler/raster-api supports user defined band combinations, band math expressions, rescaling, band index, resampling and more.  "
   ]
  },
  {
   "cell_type": "code",
   "execution_count": 7,
   "metadata": {},
   "outputs": [
    {
     "name": "stdout",
     "output_type": "stream",
     "text": [
      "{\n",
      " \"tilejson\": \"2.2.0\",\n",
      " \"name\": \"7743bcb31bff7151aff7e5508785fce1\",\n",
      " \"version\": \"1.0.0\",\n",
      " \"scheme\": \"xyz\",\n",
      " \"tiles\": [\n",
      "  \"https://staging-raster.delta-backend.com/mosaic/tiles/7743bcb31bff7151aff7e5508785fce1/WebMercatorQuad/{z}/{x}/{y}@1x?assets=B08&assets=B04&expression=%28B08-B04%29%2F%28B08%2BB04%29&rescale=0%2C1&colormap_name=rdylgn\"\n",
      " ],\n",
      " \"minzoom\": 6,\n",
      " \"maxzoom\": 12,\n",
      " \"bounds\": [\n",
      "  -180.0,\n",
      "  -85.0511287798066,\n",
      "  180.0,\n",
      "  85.0511287798066\n",
      " ],\n",
      " \"center\": [\n",
      "  0.0,\n",
      "  0.0,\n",
      "  6\n",
      " ]\n",
      "}\n"
     ]
    }
   ],
   "source": [
    "# Set up format for Map API url\n",
    "# Get base url for tiler from the register mosaic request\n",
    "tiles_href = next(link[\"href\"] for link in mosaic_response[\"links\"] if link[\"rel\"]==\"tilejson\")\n",
    "\n",
    "# Add additional map formatting parameters to tiles url\n",
    "tilejson_response = requests.get(\n",
    "    tiles_href,\n",
    "    params={\n",
    "        # Info to add to the tilejson response\n",
    "        \"minzoom\": 6,\n",
    "        \"maxzoom\": 12,\n",
    "        \"assets\": s30_vegetation_index_assets,\n",
    "        \"expression\": s30_vegetation_index_expression,\n",
    "        \"rescale\": s30_vegetation_index_rescaling,\n",
    "        \"colormap_name\": s30_vegetation_index_colormap\n",
    "    }\n",
    ").json()\n",
    "print(json.dumps(tilejson_response, indent=1))"
   ]
  },
  {
   "cell_type": "code",
   "execution_count": 8,
   "metadata": {},
   "outputs": [
    {
     "data": {
      "text/html": [
       "<div style=\"width:100%;\"><div style=\"position:relative;width:100%;height:0;padding-bottom:60%;\"><span style=\"color:#565656\">Make this Notebook Trusted to load map: File -> Trust Notebook</span><iframe src=\"about:blank\" style=\"position:absolute;width:100%;height:100%;left:0;top:0;border:none !important;\" data-html=%3C%21DOCTYPE%20html%3E%0A%3Chead%3E%20%20%20%20%0A%20%20%20%20%3Cmeta%20http-equiv%3D%22content-type%22%20content%3D%22text/html%3B%20charset%3DUTF-8%22%20/%3E%0A%20%20%20%20%0A%20%20%20%20%20%20%20%20%3Cscript%3E%0A%20%20%20%20%20%20%20%20%20%20%20%20L_NO_TOUCH%20%3D%20false%3B%0A%20%20%20%20%20%20%20%20%20%20%20%20L_DISABLE_3D%20%3D%20false%3B%0A%20%20%20%20%20%20%20%20%3C/script%3E%0A%20%20%20%20%0A%20%20%20%20%3Cstyle%3Ehtml%2C%20body%20%7Bwidth%3A%20100%25%3Bheight%3A%20100%25%3Bmargin%3A%200%3Bpadding%3A%200%3B%7D%3C/style%3E%0A%20%20%20%20%3Cstyle%3E%23map%20%7Bposition%3Aabsolute%3Btop%3A0%3Bbottom%3A0%3Bright%3A0%3Bleft%3A0%3B%7D%3C/style%3E%0A%20%20%20%20%3Cscript%20src%3D%22https%3A//cdn.jsdelivr.net/npm/leaflet%401.6.0/dist/leaflet.js%22%3E%3C/script%3E%0A%20%20%20%20%3Cscript%20src%3D%22https%3A//code.jquery.com/jquery-1.12.4.min.js%22%3E%3C/script%3E%0A%20%20%20%20%3Cscript%20src%3D%22https%3A//maxcdn.bootstrapcdn.com/bootstrap/3.2.0/js/bootstrap.min.js%22%3E%3C/script%3E%0A%20%20%20%20%3Cscript%20src%3D%22https%3A//cdnjs.cloudflare.com/ajax/libs/Leaflet.awesome-markers/2.0.2/leaflet.awesome-markers.js%22%3E%3C/script%3E%0A%20%20%20%20%3Clink%20rel%3D%22stylesheet%22%20href%3D%22https%3A//cdn.jsdelivr.net/npm/leaflet%401.6.0/dist/leaflet.css%22/%3E%0A%20%20%20%20%3Clink%20rel%3D%22stylesheet%22%20href%3D%22https%3A//maxcdn.bootstrapcdn.com/bootstrap/3.2.0/css/bootstrap.min.css%22/%3E%0A%20%20%20%20%3Clink%20rel%3D%22stylesheet%22%20href%3D%22https%3A//maxcdn.bootstrapcdn.com/bootstrap/3.2.0/css/bootstrap-theme.min.css%22/%3E%0A%20%20%20%20%3Clink%20rel%3D%22stylesheet%22%20href%3D%22https%3A//maxcdn.bootstrapcdn.com/font-awesome/4.6.3/css/font-awesome.min.css%22/%3E%0A%20%20%20%20%3Clink%20rel%3D%22stylesheet%22%20href%3D%22https%3A//cdnjs.cloudflare.com/ajax/libs/Leaflet.awesome-markers/2.0.2/leaflet.awesome-markers.css%22/%3E%0A%20%20%20%20%3Clink%20rel%3D%22stylesheet%22%20href%3D%22https%3A//cdn.jsdelivr.net/gh/python-visualization/folium/folium/templates/leaflet.awesome.rotate.min.css%22/%3E%0A%20%20%20%20%0A%20%20%20%20%20%20%20%20%20%20%20%20%3Cmeta%20name%3D%22viewport%22%20content%3D%22width%3Ddevice-width%2C%0A%20%20%20%20%20%20%20%20%20%20%20%20%20%20%20%20initial-scale%3D1.0%2C%20maximum-scale%3D1.0%2C%20user-scalable%3Dno%22%20/%3E%0A%20%20%20%20%20%20%20%20%20%20%20%20%3Cstyle%3E%0A%20%20%20%20%20%20%20%20%20%20%20%20%20%20%20%20%23map_16b5991bdb4249388b8fea43a79bf77e%20%7B%0A%20%20%20%20%20%20%20%20%20%20%20%20%20%20%20%20%20%20%20%20position%3A%20relative%3B%0A%20%20%20%20%20%20%20%20%20%20%20%20%20%20%20%20%20%20%20%20width%3A%20100.0%25%3B%0A%20%20%20%20%20%20%20%20%20%20%20%20%20%20%20%20%20%20%20%20height%3A%20100.0%25%3B%0A%20%20%20%20%20%20%20%20%20%20%20%20%20%20%20%20%20%20%20%20left%3A%200.0%25%3B%0A%20%20%20%20%20%20%20%20%20%20%20%20%20%20%20%20%20%20%20%20top%3A%200.0%25%3B%0A%20%20%20%20%20%20%20%20%20%20%20%20%20%20%20%20%7D%0A%20%20%20%20%20%20%20%20%20%20%20%20%3C/style%3E%0A%20%20%20%20%20%20%20%20%0A%3C/head%3E%0A%3Cbody%3E%20%20%20%20%0A%20%20%20%20%0A%20%20%20%20%20%20%20%20%20%20%20%20%3Cdiv%20class%3D%22folium-map%22%20id%3D%22map_16b5991bdb4249388b8fea43a79bf77e%22%20%3E%3C/div%3E%0A%20%20%20%20%20%20%20%20%0A%3C/body%3E%0A%3Cscript%3E%20%20%20%20%0A%20%20%20%20%0A%20%20%20%20%20%20%20%20%20%20%20%20var%20map_16b5991bdb4249388b8fea43a79bf77e%20%3D%20L.map%28%0A%20%20%20%20%20%20%20%20%20%20%20%20%20%20%20%20%22map_16b5991bdb4249388b8fea43a79bf77e%22%2C%0A%20%20%20%20%20%20%20%20%20%20%20%20%20%20%20%20%7B%0A%20%20%20%20%20%20%20%20%20%20%20%20%20%20%20%20%20%20%20%20center%3A%20%5B30.210818000000003%2C%20-90.349537%5D%2C%0A%20%20%20%20%20%20%20%20%20%20%20%20%20%20%20%20%20%20%20%20crs%3A%20L.CRS.EPSG3857%2C%0A%20%20%20%20%20%20%20%20%20%20%20%20%20%20%20%20%20%20%20%20zoom%3A%2011%2C%0A%20%20%20%20%20%20%20%20%20%20%20%20%20%20%20%20%20%20%20%20zoomControl%3A%20true%2C%0A%20%20%20%20%20%20%20%20%20%20%20%20%20%20%20%20%20%20%20%20preferCanvas%3A%20false%2C%0A%20%20%20%20%20%20%20%20%20%20%20%20%20%20%20%20%7D%0A%20%20%20%20%20%20%20%20%20%20%20%20%29%3B%0A%0A%20%20%20%20%20%20%20%20%20%20%20%20%0A%0A%20%20%20%20%20%20%20%20%0A%20%20%20%20%0A%20%20%20%20%20%20%20%20%20%20%20%20var%20tile_layer_597b1ae626e6403fa86953659fcb8b88%20%3D%20L.tileLayer%28%0A%20%20%20%20%20%20%20%20%20%20%20%20%20%20%20%20%22https%3A//%7Bs%7D.tile.openstreetmap.org/%7Bz%7D/%7Bx%7D/%7By%7D.png%22%2C%0A%20%20%20%20%20%20%20%20%20%20%20%20%20%20%20%20%7B%22attribution%22%3A%20%22Data%20by%20%5Cu0026copy%3B%20%5Cu003ca%20href%3D%5C%22http%3A//openstreetmap.org%5C%22%5Cu003eOpenStreetMap%5Cu003c/a%5Cu003e%2C%20under%20%5Cu003ca%20href%3D%5C%22http%3A//www.openstreetmap.org/copyright%5C%22%5Cu003eODbL%5Cu003c/a%5Cu003e.%22%2C%20%22detectRetina%22%3A%20false%2C%20%22maxNativeZoom%22%3A%2018%2C%20%22maxZoom%22%3A%2018%2C%20%22minZoom%22%3A%200%2C%20%22noWrap%22%3A%20false%2C%20%22opacity%22%3A%201%2C%20%22subdomains%22%3A%20%22abc%22%2C%20%22tms%22%3A%20false%7D%0A%20%20%20%20%20%20%20%20%20%20%20%20%29.addTo%28map_16b5991bdb4249388b8fea43a79bf77e%29%3B%0A%20%20%20%20%20%20%20%20%0A%20%20%20%20%0A%20%20%20%20%20%20%20%20%20%20%20%20var%20tile_layer_6cfe758ca1944923986561baf4573da0%20%3D%20L.tileLayer%28%0A%20%20%20%20%20%20%20%20%20%20%20%20%20%20%20%20%22https%3A//staging-raster.delta-backend.com/mosaic/tiles/7743bcb31bff7151aff7e5508785fce1/WebMercatorQuad/%7Bz%7D/%7Bx%7D/%7By%7D%401x%3Fassets%3DB08%5Cu0026assets%3DB04%5Cu0026expression%3D%2528B08-B04%2529%252F%2528B08%252BB04%2529%5Cu0026rescale%3D0%252C1%5Cu0026colormap_name%3Drdylgn%22%2C%0A%20%20%20%20%20%20%20%20%20%20%20%20%20%20%20%20%7B%22attribution%22%3A%20%22Mosaic%22%2C%20%22detectRetina%22%3A%20false%2C%20%22maxNativeZoom%22%3A%2018%2C%20%22maxZoom%22%3A%2018%2C%20%22minZoom%22%3A%200%2C%20%22noWrap%22%3A%20false%2C%20%22opacity%22%3A%201%2C%20%22subdomains%22%3A%20%22abc%22%2C%20%22tms%22%3A%20false%7D%0A%20%20%20%20%20%20%20%20%20%20%20%20%29.addTo%28map_16b5991bdb4249388b8fea43a79bf77e%29%3B%0A%20%20%20%20%20%20%20%20%0A%3C/script%3E onload=\"this.contentDocument.open();this.contentDocument.write(    decodeURIComponent(this.getAttribute('data-html')));this.contentDocument.close();\" allowfullscreen webkitallowfullscreen mozallowfullscreen></iframe></div></div>"
      ],
      "text/plain": [
       "<folium.folium.Map at 0x7fde4778ce50>"
      ]
     },
     "execution_count": 8,
     "metadata": {},
     "output_type": "execute_result"
    }
   ],
   "source": [
    "# Use bbox initial zoom and map\n",
    "# Set up a map located w/in event bounds\n",
    "zoom_start = 11\n",
    "m = Map(\n",
    "    tiles=\"OpenStreetMap\",\n",
    "    location=((ida_bbox[1] + ida_bbox[3]) / 2,(ida_bbox[0] + ida_bbox[2]) / 2),\n",
    "    zoom_start=zoom_start\n",
    ")\n",
    "\n",
    "# Add the formatted map layer\n",
    "map_layer = TileLayer(\n",
    "    tiles=tilejson_response[\"tiles\"][0],\n",
    "    attr=\"Mosaic\",  \n",
    ")\n",
    "map_layer.add_to(m)\n",
    "m"
   ]
  },
  {
   "cell_type": "markdown",
   "metadata": {},
   "source": [
    "## L30 Hurricane Maria Example"
   ]
  },
  {
   "cell_type": "code",
   "execution_count": 9,
   "metadata": {},
   "outputs": [
    {
     "name": "stdout",
     "output_type": "stream",
     "text": [
      "search context: {'limit': 10, 'matched': 9, 'returned': 9}\n"
     ]
    },
    {
     "data": {
      "text/plain": [
       "['2017-06-06T14:43:41.335694Z',\n",
       " '2017-06-22T14:43:47.156698Z',\n",
       " '2017-07-24T14:43:56.898518Z',\n",
       " '2017-08-09T14:44:03.584741Z',\n",
       " '2017-08-25T14:44:07.854507Z',\n",
       " '2017-09-26T14:44:14.813967Z',\n",
       " '2017-10-12T14:44:19.576858Z',\n",
       " '2017-11-13T14:44:17.834919Z',\n",
       " '2017-11-29T14:44:11.126689Z']"
      ]
     },
     "execution_count": 9,
     "metadata": {},
     "output_type": "execute_result"
    }
   ],
   "source": [
    "collections_filter = {\n",
    "    \"op\": \"=\", \n",
    "    \"args\" : [{ \"property\": \"collection\" }, l30_collection_id]\n",
    "}\n",
    "\n",
    "spatial_filter = {\n",
    "    \"op\": \"s_intersects\",\n",
    "    \"args\": [\n",
    "        {\"property\": \"bbox\"}, maria_bbox\n",
    "    ]\n",
    "}\n",
    "\n",
    "temporal_filter = {\n",
    "    \"op\": \"t_intersects\",\n",
    "    \"args\": [\n",
    "        { \"property\": \"datetime\" },\n",
    "        { \"interval\" : maria_temporal_range }\n",
    "    ]\n",
    "}\n",
    "\n",
    "# Additional filters can be applied for other search criteria like <= maximum eo:cloud_cover in item properties\n",
    "cloud_filter = {\n",
    "    \"op\": \"<=\",\n",
    "    \"args\": [\n",
    "        {\"property\": \"eo:cloud_cover\"},\n",
    "        80\n",
    "    ]\n",
    "}\n",
    "\n",
    "# Specify cql2-json filter language in search body and add context for a summary of matched results\n",
    "search_body = {\n",
    "    \"filter-lang\": \"cql2-json\",\n",
    "    \"context\": \"on\",\n",
    "    \"filter\": {\n",
    "        \"op\": \"and\",\n",
    "        \"args\": [\n",
    "            collections_filter,\n",
    "            temporal_filter,\n",
    "            cloud_filter\n",
    "        ]\n",
    "    }\n",
    "}\n",
    "\n",
    "# Note this search body can also be used for a stac item search \n",
    "stac_items_response = requests.post(\n",
    "    f\"{stac_base_url}/search\",\n",
    "    json=search_body,\n",
    ").json()\n",
    "\n",
    "# Check how many items were matched in searc\n",
    "print(\"search context:\", stac_items_response[\"context\"])\n",
    "\n",
    "# Iterate over search results to get an array of unique item datetimes\n",
    "datetimes = []\n",
    "features = stac_items_response[\"features\"]\n",
    "datetimes += [item[\"properties\"][\"datetime\"] for item in features]\n",
    "next_link = next((link for link in stac_items_response[\"links\"] if link[\"rel\"] == \"next\"), None)\n",
    "while next_link:\n",
    "    stac_items_response = requests.post(\n",
    "        f\"{stac_base_url}/search\",\n",
    "        json=next_link[\"body\"],\n",
    "    ).json()\n",
    "    features = stac_items_response[\"features\"]\n",
    "    datetimes += [item[\"properties\"][\"datetime\"] for item in features]\n",
    "    next_link = next((link for link in stac_items_response[\"links\"] if link[\"rel\"] == \"next\"), False)\n",
    "\n",
    "sorted(datetimes)"
   ]
  },
  {
   "cell_type": "code",
   "execution_count": 10,
   "metadata": {},
   "outputs": [],
   "source": [
    "# Restricted date range \n",
    "restricted_temporal_filter = {\n",
    "    \"op\": \"t_intersects\",\n",
    "    \"args\": [\n",
    "        { \"property\": \"datetime\" },\n",
    "        { \"interval\" : [ \"2017-10-11T00:00:00Z\", \"2017-10-13T00:00:00Z\"] }\n",
    "    ]\n",
    "}\n",
    "\n",
    "# Specify cql2-json filter language in search body\n",
    "search_body = {\n",
    "    \"filter-lang\": \"cql2-json\",\n",
    "    \"filter\": {\n",
    "        \"op\": \"and\",\n",
    "        \"args\": [\n",
    "            collections_filter,\n",
    "            spatial_filter,\n",
    "            restricted_temporal_filter\n",
    "        ]\n",
    "    }\n",
    "}\n",
    "\n",
    "mosaic_response = requests.post(\n",
    "    f\"{raster_base_url}/mosaic/register\",\n",
    "    json=search_body,\n",
    ").json()\n",
    "\n",
    "# Set up format for Map API url\n",
    "# Get base url for tiler from the register mosaic request\n",
    "tiles_href = next(link[\"href\"] for link in mosaic_response[\"links\"] if link[\"rel\"]==\"tilejson\")\n",
    "\n",
    "# Add additional map formatting parameters to tiles url\n",
    "tilejson_response = requests.get(\n",
    "    tiles_href,\n",
    "    params={\n",
    "        # Info to add to the tilejson response\n",
    "        \"minzoom\": 6,\n",
    "        \"maxzoom\": 12,\n",
    "        \"assets\": l30_ndwi_assets,\n",
    "        \"expression\": l30_ndwi_expression,\n",
    "        \"rescale\": l30_ndwi_rescaling,\n",
    "        \"colormap_name\": \"viridis\"\n",
    "    }\n",
    ").json()"
   ]
  },
  {
   "cell_type": "code",
   "execution_count": 11,
   "metadata": {},
   "outputs": [
    {
     "data": {
      "text/html": [
       "<div style=\"width:100%;\"><div style=\"position:relative;width:100%;height:0;padding-bottom:60%;\"><span style=\"color:#565656\">Make this Notebook Trusted to load map: File -> Trust Notebook</span><iframe src=\"about:blank\" style=\"position:absolute;width:100%;height:100%;left:0;top:0;border:none !important;\" data-html=%3C%21DOCTYPE%20html%3E%0A%3Chead%3E%20%20%20%20%0A%20%20%20%20%3Cmeta%20http-equiv%3D%22content-type%22%20content%3D%22text/html%3B%20charset%3DUTF-8%22%20/%3E%0A%20%20%20%20%0A%20%20%20%20%20%20%20%20%3Cscript%3E%0A%20%20%20%20%20%20%20%20%20%20%20%20L_NO_TOUCH%20%3D%20false%3B%0A%20%20%20%20%20%20%20%20%20%20%20%20L_DISABLE_3D%20%3D%20false%3B%0A%20%20%20%20%20%20%20%20%3C/script%3E%0A%20%20%20%20%0A%20%20%20%20%3Cstyle%3Ehtml%2C%20body%20%7Bwidth%3A%20100%25%3Bheight%3A%20100%25%3Bmargin%3A%200%3Bpadding%3A%200%3B%7D%3C/style%3E%0A%20%20%20%20%3Cstyle%3E%23map%20%7Bposition%3Aabsolute%3Btop%3A0%3Bbottom%3A0%3Bright%3A0%3Bleft%3A0%3B%7D%3C/style%3E%0A%20%20%20%20%3Cscript%20src%3D%22https%3A//cdn.jsdelivr.net/npm/leaflet%401.6.0/dist/leaflet.js%22%3E%3C/script%3E%0A%20%20%20%20%3Cscript%20src%3D%22https%3A//code.jquery.com/jquery-1.12.4.min.js%22%3E%3C/script%3E%0A%20%20%20%20%3Cscript%20src%3D%22https%3A//maxcdn.bootstrapcdn.com/bootstrap/3.2.0/js/bootstrap.min.js%22%3E%3C/script%3E%0A%20%20%20%20%3Cscript%20src%3D%22https%3A//cdnjs.cloudflare.com/ajax/libs/Leaflet.awesome-markers/2.0.2/leaflet.awesome-markers.js%22%3E%3C/script%3E%0A%20%20%20%20%3Clink%20rel%3D%22stylesheet%22%20href%3D%22https%3A//cdn.jsdelivr.net/npm/leaflet%401.6.0/dist/leaflet.css%22/%3E%0A%20%20%20%20%3Clink%20rel%3D%22stylesheet%22%20href%3D%22https%3A//maxcdn.bootstrapcdn.com/bootstrap/3.2.0/css/bootstrap.min.css%22/%3E%0A%20%20%20%20%3Clink%20rel%3D%22stylesheet%22%20href%3D%22https%3A//maxcdn.bootstrapcdn.com/bootstrap/3.2.0/css/bootstrap-theme.min.css%22/%3E%0A%20%20%20%20%3Clink%20rel%3D%22stylesheet%22%20href%3D%22https%3A//maxcdn.bootstrapcdn.com/font-awesome/4.6.3/css/font-awesome.min.css%22/%3E%0A%20%20%20%20%3Clink%20rel%3D%22stylesheet%22%20href%3D%22https%3A//cdnjs.cloudflare.com/ajax/libs/Leaflet.awesome-markers/2.0.2/leaflet.awesome-markers.css%22/%3E%0A%20%20%20%20%3Clink%20rel%3D%22stylesheet%22%20href%3D%22https%3A//cdn.jsdelivr.net/gh/python-visualization/folium/folium/templates/leaflet.awesome.rotate.min.css%22/%3E%0A%20%20%20%20%0A%20%20%20%20%20%20%20%20%20%20%20%20%3Cmeta%20name%3D%22viewport%22%20content%3D%22width%3Ddevice-width%2C%0A%20%20%20%20%20%20%20%20%20%20%20%20%20%20%20%20initial-scale%3D1.0%2C%20maximum-scale%3D1.0%2C%20user-scalable%3Dno%22%20/%3E%0A%20%20%20%20%20%20%20%20%20%20%20%20%3Cstyle%3E%0A%20%20%20%20%20%20%20%20%20%20%20%20%20%20%20%20%23map_6b15052a26b64b4d98d2e95e7b3cc3e8%20%7B%0A%20%20%20%20%20%20%20%20%20%20%20%20%20%20%20%20%20%20%20%20position%3A%20relative%3B%0A%20%20%20%20%20%20%20%20%20%20%20%20%20%20%20%20%20%20%20%20width%3A%20100.0%25%3B%0A%20%20%20%20%20%20%20%20%20%20%20%20%20%20%20%20%20%20%20%20height%3A%20100.0%25%3B%0A%20%20%20%20%20%20%20%20%20%20%20%20%20%20%20%20%20%20%20%20left%3A%200.0%25%3B%0A%20%20%20%20%20%20%20%20%20%20%20%20%20%20%20%20%20%20%20%20top%3A%200.0%25%3B%0A%20%20%20%20%20%20%20%20%20%20%20%20%20%20%20%20%7D%0A%20%20%20%20%20%20%20%20%20%20%20%20%3C/style%3E%0A%20%20%20%20%20%20%20%20%0A%3C/head%3E%0A%3Cbody%3E%20%20%20%20%0A%20%20%20%20%0A%20%20%20%20%20%20%20%20%20%20%20%20%3Cdiv%20class%3D%22folium-map%22%20id%3D%22map_6b15052a26b64b4d98d2e95e7b3cc3e8%22%20%3E%3C/div%3E%0A%20%20%20%20%20%20%20%20%0A%3C/body%3E%0A%3Cscript%3E%20%20%20%20%0A%20%20%20%20%0A%20%20%20%20%20%20%20%20%20%20%20%20var%20map_6b15052a26b64b4d98d2e95e7b3cc3e8%20%3D%20L.map%28%0A%20%20%20%20%20%20%20%20%20%20%20%20%20%20%20%20%22map_6b15052a26b64b4d98d2e95e7b3cc3e8%22%2C%0A%20%20%20%20%20%20%20%20%20%20%20%20%20%20%20%20%7B%0A%20%20%20%20%20%20%20%20%20%20%20%20%20%20%20%20%20%20%20%20center%3A%20%5B18.464629000000002%2C%20-65.638847%5D%2C%0A%20%20%20%20%20%20%20%20%20%20%20%20%20%20%20%20%20%20%20%20crs%3A%20L.CRS.EPSG3857%2C%0A%20%20%20%20%20%20%20%20%20%20%20%20%20%20%20%20%20%20%20%20zoom%3A%2011%2C%0A%20%20%20%20%20%20%20%20%20%20%20%20%20%20%20%20%20%20%20%20zoomControl%3A%20true%2C%0A%20%20%20%20%20%20%20%20%20%20%20%20%20%20%20%20%20%20%20%20preferCanvas%3A%20false%2C%0A%20%20%20%20%20%20%20%20%20%20%20%20%20%20%20%20%7D%0A%20%20%20%20%20%20%20%20%20%20%20%20%29%3B%0A%0A%20%20%20%20%20%20%20%20%20%20%20%20%0A%0A%20%20%20%20%20%20%20%20%0A%20%20%20%20%0A%20%20%20%20%20%20%20%20%20%20%20%20var%20tile_layer_1df7bc98b30a46749092f4c43c7abb92%20%3D%20L.tileLayer%28%0A%20%20%20%20%20%20%20%20%20%20%20%20%20%20%20%20%22https%3A//%7Bs%7D.tile.openstreetmap.org/%7Bz%7D/%7Bx%7D/%7By%7D.png%22%2C%0A%20%20%20%20%20%20%20%20%20%20%20%20%20%20%20%20%7B%22attribution%22%3A%20%22Data%20by%20%5Cu0026copy%3B%20%5Cu003ca%20href%3D%5C%22http%3A//openstreetmap.org%5C%22%5Cu003eOpenStreetMap%5Cu003c/a%5Cu003e%2C%20under%20%5Cu003ca%20href%3D%5C%22http%3A//www.openstreetmap.org/copyright%5C%22%5Cu003eODbL%5Cu003c/a%5Cu003e.%22%2C%20%22detectRetina%22%3A%20false%2C%20%22maxNativeZoom%22%3A%2018%2C%20%22maxZoom%22%3A%2018%2C%20%22minZoom%22%3A%200%2C%20%22noWrap%22%3A%20false%2C%20%22opacity%22%3A%201%2C%20%22subdomains%22%3A%20%22abc%22%2C%20%22tms%22%3A%20false%7D%0A%20%20%20%20%20%20%20%20%20%20%20%20%29.addTo%28map_6b15052a26b64b4d98d2e95e7b3cc3e8%29%3B%0A%20%20%20%20%20%20%20%20%0A%20%20%20%20%0A%20%20%20%20%20%20%20%20%20%20%20%20var%20tile_layer_7e53bac2a62241619c4017a0b1139f2e%20%3D%20L.tileLayer%28%0A%20%20%20%20%20%20%20%20%20%20%20%20%20%20%20%20%22https%3A//staging-raster.delta-backend.com/mosaic/tiles/61809545320d5ea343d57453af06b818/WebMercatorQuad/%7Bz%7D/%7Bx%7D/%7By%7D%401x%3Fassets%3DB03%5Cu0026assets%3DB05%5Cu0026expression%3D%2528B03-B05%2529%252F%2528B03%252BB05%2529%5Cu0026rescale%3D0%252C1%5Cu0026colormap_name%3Dviridis%22%2C%0A%20%20%20%20%20%20%20%20%20%20%20%20%20%20%20%20%7B%22attribution%22%3A%20%22Mosaic%22%2C%20%22detectRetina%22%3A%20false%2C%20%22maxNativeZoom%22%3A%2018%2C%20%22maxZoom%22%3A%2018%2C%20%22minZoom%22%3A%200%2C%20%22noWrap%22%3A%20false%2C%20%22opacity%22%3A%201%2C%20%22subdomains%22%3A%20%22abc%22%2C%20%22tms%22%3A%20false%7D%0A%20%20%20%20%20%20%20%20%20%20%20%20%29.addTo%28map_6b15052a26b64b4d98d2e95e7b3cc3e8%29%3B%0A%20%20%20%20%20%20%20%20%0A%3C/script%3E onload=\"this.contentDocument.open();this.contentDocument.write(    decodeURIComponent(this.getAttribute('data-html')));this.contentDocument.close();\" allowfullscreen webkitallowfullscreen mozallowfullscreen></iframe></div></div>"
      ],
      "text/plain": [
       "<folium.folium.Map at 0x7fde4778c280>"
      ]
     },
     "execution_count": 11,
     "metadata": {},
     "output_type": "execute_result"
    }
   ],
   "source": [
    "# Use bbox initial zoom and map\n",
    "# Set up a map located w/in event bounds\n",
    "zoom_start = 11\n",
    "m = Map(\n",
    "    tiles=\"OpenStreetMap\",\n",
    "    location=((maria_bbox[1] + maria_bbox[3]) / 2,(maria_bbox[0] + maria_bbox[2]) / 2),\n",
    "    zoom_start=zoom_start\n",
    ")\n",
    "\n",
    "# Add the formatted map layer\n",
    "map_layer = TileLayer(\n",
    "    tiles=tilejson_response[\"tiles\"][0],\n",
    "    attr=\"Mosaic\",  \n",
    ")\n",
    "map_layer.add_to(m)\n",
    "m"
   ]
  },
  {
   "cell_type": "code",
   "execution_count": null,
   "metadata": {},
   "outputs": [],
   "source": []
  }
 ],
 "metadata": {
  "interpreter": {
   "hash": "ae7b47172094ff8e8b6e3fbfb5ebf2ae228c5b16c61939d2a45181e6dbe6a06c"
  },
  "kernelspec": {
   "display_name": "Python 3",
   "language": "python",
   "name": "python3"
  },
  "language_info": {
   "codemirror_mode": {
    "name": "ipython",
    "version": 3
   },
   "file_extension": ".py",
   "mimetype": "text/x-python",
   "name": "python",
   "nbconvert_exporter": "python",
   "pygments_lexer": "ipython3",
   "version": "3.8.8"
  }
 },
 "nbformat": 4,
 "nbformat_minor": 2
}
