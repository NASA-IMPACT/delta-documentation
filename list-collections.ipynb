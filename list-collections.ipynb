{
 "cells": [
  {
   "cell_type": "markdown",
   "id": "258bea80",
   "metadata": {},
   "source": [
    "# List all collections "
   ]
  },
  {
   "cell_type": "code",
   "execution_count": 1,
   "id": "20e1239f",
   "metadata": {},
   "outputs": [],
   "source": [
    "from pystac_client import Client"
   ]
  },
  {
   "cell_type": "code",
   "execution_count": 2,
   "id": "bea9d27f",
   "metadata": {},
   "outputs": [],
   "source": [
    "STAC_API_URL = 'https://staging-stac.delta-backend.com/'\n",
    "client = Client.open(STAC_API_URL)"
   ]
  },
  {
   "cell_type": "code",
   "execution_count": 3,
   "id": "01377d27",
   "metadata": {},
   "outputs": [
    {
     "name": "stdout",
     "output_type": "stream",
     "text": [
      "nightlights-500m-daily\n",
      "social-vulnerability-index-household\n",
      "nightlights-hd-monthly\n",
      "geoglam\n",
      "grdi-vnl-raster\n",
      "social-vulnerability-index-housing-nopop\n",
      "social-vulnerability-index-household-nopop\n",
      "social-vulnerability-index-socioeconomic\n",
      "social-vulnerability-index-socioeconomic-nopop\n",
      "grdi-filled-missing-values-count\n",
      "OMI_trno2-COG\n",
      "social-vulnerability-index-overall\n",
      "social-vulnerability-index-minority-nopop\n",
      "grdi-cdr-raster\n",
      "MO_NPP_npp_vgpm\n",
      "no2-monthly-diff\n",
      "lis-tws-trend\n",
      "HLSL30.002\n",
      "social-vulnerability-index-overall-nopop\n",
      "grdi-v1-raster\n",
      "IS2SITMOGR4-cog\n",
      "lis-tws-anomaly\n",
      "blue-tarp-planetscope\n",
      "social-vulnerability-index-housing\n",
      "blue-tarp-detection\n",
      "grdi-shdi-raster\n",
      "grdi-imr-raster\n",
      "hls-l30-002-ej\n",
      "no2-monthly\n",
      "nightlights-hd-1band\n",
      "social-vulnerability-index-minority\n",
      "nceo_africa_2017\n",
      "OMSO2PCA-COG\n",
      "HLSS30.002\n",
      "hls-s30-002-ej-reprocessed\n",
      "grdi-v1-built\n",
      "hls-s30-002-ej\n",
      "hls-l30-002-ej-reprocessed\n",
      "facebook_population_density\n",
      "grdi-vnl-slope-raster\n"
     ]
    }
   ],
   "source": [
    "for root, subcatalogs, items in client.walk():\n",
    "    # subcats represents any catalogs or collections owned by root\n",
    "    for cat in subcatalogs:\n",
    "        print(cat.id)"
   ]
  }
 ],
 "metadata": {
  "kernelspec": {
   "display_name": "VEDA Documentation",
   "language": "python",
   "name": "env-veda-documentation"
  },
  "language_info": {
   "codemirror_mode": {
    "name": "ipython",
    "version": 3
   },
   "file_extension": ".py",
   "mimetype": "text/x-python",
   "name": "python",
   "nbconvert_exporter": "python",
   "pygments_lexer": "ipython3",
   "version": "3.8.3"
  }
 },
 "nbformat": 4,
 "nbformat_minor": 5
}
