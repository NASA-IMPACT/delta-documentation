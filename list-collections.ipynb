{
 "cells": [
  {
   "cell_type": "markdown",
   "id": "258bea80",
   "metadata": {},
   "source": [
    "# List all collections {.unnumbered}"
   ]
  },
  {
   "cell_type": "code",
   "execution_count": 1,
   "id": "20e1239f",
   "metadata": {},
   "outputs": [],
   "source": [
    "from pystac import Catalog"
   ]
  },
  {
   "cell_type": "code",
   "execution_count": 2,
   "id": "bea9d27f",
   "metadata": {},
   "outputs": [],
   "source": [
    "stac_api_url = 'https://staging-stac.delta-backend.xyz/'\n",
    "catalog = Catalog.from_file(stac_api_url)"
   ]
  },
  {
   "cell_type": "code",
   "execution_count": 3,
   "id": "01377d27",
   "metadata": {},
   "outputs": [
    {
     "name": "stdout",
     "output_type": "stream",
     "text": [
      "social-vulnerability-index-housing-nopop\n",
      "OMI_trno2-COG\n",
      "OMSO2PCA-COG\n",
      "social-vulnerability-index-overall\n",
      "social-vulnerability-index-overall-nopop\n",
      "social-vulnerability-index-household\n",
      "social-vulnerability-index-household-nopop\n",
      "no2-monthly\n",
      "no2-monthly-diff\n",
      "facebook_population_density\n",
      "social-vulnerability-index-minority\n",
      "social-vulnerability-index-minority-nopop\n",
      "social-vulnerability-index-socioeconomic\n",
      "social-vulnerability-index-socioeconomic-nopop\n",
      "social-vulnerability-index-housing\n",
      "blue-tarp-detection\n",
      "blue-tarp-planetscope\n",
      "nightlights-hd-3bands\n",
      "nightlights-hd-monthly\n",
      "MO_NPP_npp_vgpm\n",
      "HLSL30.002\n",
      "HLSS30.002\n"
     ]
    }
   ],
   "source": [
    "for root, subcatalogs, items in catalog.walk():\n",
    "    # subcats represents any catalogs or collections owned by root\n",
    "    for cat in subcatalogs:\n",
    "        print(cat.id)"
   ]
  }
 ],
 "metadata": {
  "kernelspec": {
   "display_name": "Python 3 (ipykernel)",
   "language": "python",
   "name": "python3"
  },
  "language_info": {
   "codemirror_mode": {
    "name": "ipython",
    "version": 3
   },
   "file_extension": ".py",
   "mimetype": "text/x-python",
   "name": "python",
   "nbconvert_exporter": "python",
   "pygments_lexer": "ipython3",
   "version": "3.9.7"
  }
 },
 "nbformat": 4,
 "nbformat_minor": 5
}
