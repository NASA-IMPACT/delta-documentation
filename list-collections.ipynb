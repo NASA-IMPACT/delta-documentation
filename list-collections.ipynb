{
 "cells": [
  {
   "cell_type": "markdown",
   "id": "258bea80",
   "metadata": {},
   "source": [
    "# List all collections {.unnumbered}"
   ]
  },
  {
   "cell_type": "code",
   "execution_count": 1,
   "id": "20e1239f",
   "metadata": {},
   "outputs": [],
   "source": [
    "from pystac import Catalog"
   ]
  },
  {
   "cell_type": "code",
   "execution_count": 2,
   "id": "bea9d27f",
   "metadata": {},
   "outputs": [],
   "source": [
    "stac_api_url = 'https://staging-stac.delta-backend.com/'\n",
    "catalog = Catalog.from_file(stac_api_url)"
   ]
  },
  {
   "cell_type": "code",
   "execution_count": 3,
   "id": "01377d27",
   "metadata": {},
   "outputs": [
    {
     "name": "stdout",
     "output_type": "stream",
     "text": [
      "no2-monthly\n",
      "nightlights-hd-1band\n",
      "grdi-cdr-raster\n",
      "hls-l30-002-ej-reprocessed\n",
      "facebook_population_density\n",
      "hls-l30-002-ej\n",
      "blue-tarp-planetscope\n",
      "social-vulnerability-index-housing\n",
      "social-vulnerability-index-household-nopop\n",
      "grdi-v1-built\n",
      "social-vulnerability-index-household\n",
      "hls-s30-002-ej-reprocessed\n",
      "nightlights-hd-monthly\n",
      "grdi-vnl-slope-raster\n",
      "geoglam\n",
      "grdi-vnl-raster\n",
      "social-vulnerability-index-housing-nopop\n",
      "hls-s30-002-ej\n",
      "social-vulnerability-index-socioeconomic\n",
      "social-vulnerability-index-socioeconomic-nopop\n",
      "grdi-filled-missing-values-count\n",
      "grdi-shdi-raster\n",
      "blue-tarp-detection\n",
      "MO_NPP_npp_vgpm\n",
      "grdi-imr-raster\n",
      "social-vulnerability-index-overall-nopop\n",
      "social-vulnerability-index-overall\n",
      "grdi-v1-raster\n",
      "IS2SITMOGR4-cog\n",
      "social-vulnerability-index-minority\n",
      "nceo_africa_2017\n",
      "OMSO2PCA-COG\n",
      "HLSS30.002\n",
      "HLSL30.002\n",
      "nightlights-500m-daily\n",
      "OMI_trno2-COG\n",
      "no2-monthly-diff\n",
      "social-vulnerability-index-minority-nopop\n"
     ]
    }
   ],
   "source": [
    "for root, subcatalogs, items in catalog.walk():\n",
    "    # subcats represents any catalogs or collections owned by root\n",
    "    for cat in subcatalogs:\n",
    "        print(cat.id)"
   ]
  }
 ],
 "metadata": {
  "kernelspec": {
   "display_name": "Python 3 (ipykernel)",
   "language": "python",
   "name": "python3"
  },
  "language_info": {
   "codemirror_mode": {
    "name": "ipython",
    "version": 3
   },
   "file_extension": ".py",
   "mimetype": "text/x-python",
   "name": "python",
   "nbconvert_exporter": "python",
   "pygments_lexer": "ipython3",
   "version": "3.9.13"
  }
 },
 "nbformat": 4,
 "nbformat_minor": 5
}
