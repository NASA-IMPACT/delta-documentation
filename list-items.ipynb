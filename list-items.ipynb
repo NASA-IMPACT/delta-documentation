{
 "cells": [
  {
   "cell_type": "markdown",
   "id": "9a39000f",
   "metadata": {},
   "source": [
    "# List the first item in each collection {.unnumbered}"
   ]
  },
  {
   "cell_type": "code",
   "execution_count": 1,
   "id": "ff0b049c",
   "metadata": {},
   "outputs": [],
   "source": [
    "from satsearch import Search\n",
    "from pystac import Catalog"
   ]
  },
  {
   "cell_type": "code",
   "execution_count": 2,
   "id": "1232f1b1",
   "metadata": {},
   "outputs": [],
   "source": [
    "stac_api_url = 'https://staging-stac.delta-backend.xyz/'\n",
    "catalog = Catalog.from_file(stac_api_url)"
   ]
  },
  {
   "cell_type": "code",
   "execution_count": 3,
   "id": "ef2d4b4c",
   "metadata": {},
   "outputs": [
    {
     "data": {
      "text/plain": [
       "['social-vulnerability-index-housing-nopop',\n",
       " 'nightlights-hd-monthly',\n",
       " 'grdi-v1-built',\n",
       " 'MO_NPP_npp_vgpm',\n",
       " 'HLSS30.002',\n",
       " 'HLSL30.002',\n",
       " 'OMI_trno2-COG',\n",
       " 'no2-monthly-diff',\n",
       " 'social-vulnerability-index-household',\n",
       " 'social-vulnerability-index-household-nopop',\n",
       " 'social-vulnerability-index-minority',\n",
       " 'grdi-shdi-raster',\n",
       " 'no2-monthly',\n",
       " 'facebook_population_density',\n",
       " 'grdi-vnl-slope-raster',\n",
       " 'grdi-vnl-raster',\n",
       " 'social-vulnerability-index-socioeconomic',\n",
       " 'social-vulnerability-index-socioeconomic-nopop',\n",
       " 'social-vulnerability-index-housing',\n",
       " 'blue-tarp-detection',\n",
       " 'blue-tarp-planetscope',\n",
       " 'grdi-v1-raster',\n",
       " 'OMSO2PCA-COG',\n",
       " 'social-vulnerability-index-overall-nopop',\n",
       " 'grdi-filled-missing-values-count',\n",
       " 'social-vulnerability-index-overall',\n",
       " 'IS2SITMOGR4',\n",
       " 'grdi-cdr-raster',\n",
       " 'social-vulnerability-index-minority-nopop',\n",
       " 'nceo_africa_2017',\n",
       " 'geoglam',\n",
       " 'grdi-imr-raster',\n",
       " 'nightlights-hd-3bands']"
      ]
     },
     "execution_count": 3,
     "metadata": {},
     "output_type": "execute_result"
    }
   ],
   "source": [
    "collections = []\n",
    "\n",
    "for root, subcatalogs, _ in catalog.walk():\n",
    "    # subcats represents any catalogs or collections owned by root\n",
    "    for cat in subcatalogs:\n",
    "        collections.append(cat.id)\n",
    "        \n",
    "collections"
   ]
  },
  {
   "cell_type": "code",
   "execution_count": null,
   "id": "f0af3870",
   "metadata": {},
   "outputs": [],
   "source": [
    "first_item_locations = []\n",
    "for collection in collections:\n",
    "    search = Search.search(\n",
    "        url=stac_api_url,\n",
    "        collections=[collection],\n",
    "        limit=1\n",
    "    )\n",
    "    location = search.items()[0].assets['cog_default']['href']\n",
    "    first_item_locations.append(location)"
   ]
  },
  {
   "cell_type": "code",
   "execution_count": null,
   "id": "fbbe7b81",
   "metadata": {},
   "outputs": [],
   "source": [
    "first_item_locations"
   ]
  }
 ],
 "metadata": {
  "kernelspec": {
   "display_name": "Python 3 (ipykernel)",
   "language": "python",
   "name": "python3"
  },
  "language_info": {
   "codemirror_mode": {
    "name": "ipython",
    "version": 3
   },
   "file_extension": ".py",
   "mimetype": "text/x-python",
   "name": "python",
   "nbconvert_exporter": "python",
   "pygments_lexer": "ipython3",
   "version": "3.9.7"
  }
 },
 "nbformat": 4,
 "nbformat_minor": 5
}
