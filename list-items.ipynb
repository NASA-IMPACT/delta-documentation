{
 "cells": [
  {
   "cell_type": "markdown",
   "id": "9a39000f",
   "metadata": {},
   "source": [
    "# List the first item in each collection {.unnumbered}"
   ]
  },
  {
   "cell_type": "code",
   "execution_count": 3,
   "id": "ff0b049c",
   "metadata": {},
   "outputs": [],
   "source": [
    "from satsearch import Search\n",
    "from pystac import Catalog"
   ]
  },
  {
   "cell_type": "code",
   "execution_count": 4,
   "id": "1232f1b1",
   "metadata": {},
   "outputs": [],
   "source": [
    "stac_api_url = 'https://staging-stac.delta-backend.xyz/'\n",
    "catalog = Catalog.from_file(stac_api_url)"
   ]
  },
  {
   "cell_type": "code",
   "execution_count": 5,
   "id": "ef2d4b4c",
   "metadata": {},
   "outputs": [
    {
     "data": {
      "text/plain": [
       "['social-vulnerability-index-housing-nopop',\n",
       " 'OMI_trno2-COG',\n",
       " 'OMSO2PCA-COG',\n",
       " 'social-vulnerability-index-overall',\n",
       " 'social-vulnerability-index-overall-nopop',\n",
       " 'social-vulnerability-index-household',\n",
       " 'social-vulnerability-index-household-nopop',\n",
       " 'no2-monthly',\n",
       " 'no2-monthly-diff',\n",
       " 'facebook_population_density',\n",
       " 'social-vulnerability-index-minority',\n",
       " 'social-vulnerability-index-minority-nopop',\n",
       " 'social-vulnerability-index-socioeconomic',\n",
       " 'social-vulnerability-index-socioeconomic-nopop',\n",
       " 'social-vulnerability-index-housing',\n",
       " 'blue-tarp-detection',\n",
       " 'blue-tarp-planetscope',\n",
       " 'nightlights-hd-3bands',\n",
       " 'nightlights-hd-monthly',\n",
       " 'MO_NPP_npp_vgpm',\n",
       " 'HLSL30.002',\n",
       " 'HLSS30.002']"
      ]
     },
     "execution_count": 5,
     "metadata": {},
     "output_type": "execute_result"
    }
   ],
   "source": [
    "collections = []\n",
    "\n",
    "for root, subcatalogs, _ in catalog.walk():\n",
    "    # subcats represents any catalogs or collections owned by root\n",
    "    for cat in subcatalogs:\n",
    "        collections.append(cat.id)\n",
    "        \n",
    "collections"
   ]
  },
  {
   "cell_type": "code",
   "execution_count": 9,
   "id": "f0af3870",
   "metadata": {},
   "outputs": [
    {
     "name": "stdout",
     "output_type": "stream",
     "text": [
      "url is https://staging-stac.delta-backend.xyz/search\n",
      "headers is None\n",
      "kwargs is {'limit': 1, 'collections': ['social-vulnerability-index-housing-nopop']}\n"
     ]
    },
    {
     "name": "stderr",
     "output_type": "stream",
     "text": [
      "There are more items found (5) than the limit (1) provided.\n"
     ]
    },
    {
     "name": "stdout",
     "output_type": "stream",
     "text": [
      "url is https://staging-stac.delta-backend.xyz/search\n",
      "headers is None\n",
      "kwargs is {'limit': 1, 'collections': ['OMI_trno2-COG']}\n"
     ]
    },
    {
     "name": "stderr",
     "output_type": "stream",
     "text": [
      "There are more items found (17) than the limit (1) provided.\n"
     ]
    },
    {
     "name": "stdout",
     "output_type": "stream",
     "text": [
      "url is https://staging-stac.delta-backend.xyz/search\n",
      "headers is None\n",
      "kwargs is {'limit': 1, 'collections': ['OMSO2PCA-COG']}\n"
     ]
    },
    {
     "name": "stderr",
     "output_type": "stream",
     "text": [
      "There are more items found (17) than the limit (1) provided.\n"
     ]
    },
    {
     "name": "stdout",
     "output_type": "stream",
     "text": [
      "url is https://staging-stac.delta-backend.xyz/search\n",
      "headers is None\n",
      "kwargs is {'limit': 1, 'collections': ['social-vulnerability-index-overall']}\n"
     ]
    },
    {
     "name": "stderr",
     "output_type": "stream",
     "text": [
      "There are more items found (5) than the limit (1) provided.\n"
     ]
    },
    {
     "name": "stdout",
     "output_type": "stream",
     "text": [
      "url is https://staging-stac.delta-backend.xyz/search\n",
      "headers is None\n",
      "kwargs is {'limit': 1, 'collections': ['social-vulnerability-index-overall-nopop']}\n"
     ]
    },
    {
     "name": "stderr",
     "output_type": "stream",
     "text": [
      "There are more items found (5) than the limit (1) provided.\n"
     ]
    },
    {
     "name": "stdout",
     "output_type": "stream",
     "text": [
      "url is https://staging-stac.delta-backend.xyz/search\n",
      "headers is None\n",
      "kwargs is {'limit': 1, 'collections': ['social-vulnerability-index-household']}\n"
     ]
    },
    {
     "name": "stderr",
     "output_type": "stream",
     "text": [
      "There are more items found (5) than the limit (1) provided.\n"
     ]
    },
    {
     "name": "stdout",
     "output_type": "stream",
     "text": [
      "url is https://staging-stac.delta-backend.xyz/search\n",
      "headers is None\n",
      "kwargs is {'limit': 1, 'collections': ['social-vulnerability-index-household-nopop']}\n"
     ]
    },
    {
     "name": "stderr",
     "output_type": "stream",
     "text": [
      "There are more items found (5) than the limit (1) provided.\n"
     ]
    },
    {
     "name": "stdout",
     "output_type": "stream",
     "text": [
      "url is https://staging-stac.delta-backend.xyz/search\n",
      "headers is None\n",
      "kwargs is {'limit': 1, 'collections': ['no2-monthly']}\n"
     ]
    },
    {
     "name": "stderr",
     "output_type": "stream",
     "text": [
      "There are more items found (74) than the limit (1) provided.\n"
     ]
    },
    {
     "name": "stdout",
     "output_type": "stream",
     "text": [
      "url is https://staging-stac.delta-backend.xyz/search\n",
      "headers is None\n",
      "kwargs is {'limit': 1, 'collections': ['no2-monthly-diff']}\n"
     ]
    },
    {
     "name": "stderr",
     "output_type": "stream",
     "text": [
      "There are more items found (86) than the limit (1) provided.\n"
     ]
    },
    {
     "name": "stdout",
     "output_type": "stream",
     "text": [
      "url is https://staging-stac.delta-backend.xyz/search\n",
      "headers is None\n",
      "kwargs is {'limit': 1, 'collections': ['facebook_population_density']}\n",
      "url is https://staging-stac.delta-backend.xyz/search\n",
      "headers is None\n",
      "kwargs is {'limit': 1, 'collections': ['social-vulnerability-index-minority']}\n"
     ]
    },
    {
     "name": "stderr",
     "output_type": "stream",
     "text": [
      "There are more items found (5) than the limit (1) provided.\n"
     ]
    },
    {
     "name": "stdout",
     "output_type": "stream",
     "text": [
      "url is https://staging-stac.delta-backend.xyz/search\n",
      "headers is None\n",
      "kwargs is {'limit': 1, 'collections': ['social-vulnerability-index-minority-nopop']}\n"
     ]
    },
    {
     "name": "stderr",
     "output_type": "stream",
     "text": [
      "There are more items found (5) than the limit (1) provided.\n"
     ]
    },
    {
     "name": "stdout",
     "output_type": "stream",
     "text": [
      "url is https://staging-stac.delta-backend.xyz/search\n",
      "headers is None\n",
      "kwargs is {'limit': 1, 'collections': ['social-vulnerability-index-socioeconomic']}\n"
     ]
    },
    {
     "name": "stderr",
     "output_type": "stream",
     "text": [
      "There are more items found (5) than the limit (1) provided.\n"
     ]
    },
    {
     "name": "stdout",
     "output_type": "stream",
     "text": [
      "url is https://staging-stac.delta-backend.xyz/search\n",
      "headers is None\n",
      "kwargs is {'limit': 1, 'collections': ['social-vulnerability-index-socioeconomic-nopop']}\n"
     ]
    },
    {
     "name": "stderr",
     "output_type": "stream",
     "text": [
      "There are more items found (5) than the limit (1) provided.\n"
     ]
    },
    {
     "name": "stdout",
     "output_type": "stream",
     "text": [
      "url is https://staging-stac.delta-backend.xyz/search\n",
      "headers is None\n",
      "kwargs is {'limit': 1, 'collections': ['social-vulnerability-index-housing']}\n"
     ]
    },
    {
     "name": "stderr",
     "output_type": "stream",
     "text": [
      "There are more items found (5) than the limit (1) provided.\n"
     ]
    },
    {
     "name": "stdout",
     "output_type": "stream",
     "text": [
      "url is https://staging-stac.delta-backend.xyz/search\n",
      "headers is None\n",
      "kwargs is {'limit': 1, 'collections': ['blue-tarp-detection']}\n"
     ]
    },
    {
     "name": "stderr",
     "output_type": "stream",
     "text": [
      "There are more items found (162) than the limit (1) provided.\n"
     ]
    },
    {
     "name": "stdout",
     "output_type": "stream",
     "text": [
      "url is https://staging-stac.delta-backend.xyz/search\n",
      "headers is None\n",
      "kwargs is {'limit': 1, 'collections': ['blue-tarp-planetscope']}\n"
     ]
    },
    {
     "name": "stderr",
     "output_type": "stream",
     "text": [
      "There are more items found (162) than the limit (1) provided.\n"
     ]
    },
    {
     "name": "stdout",
     "output_type": "stream",
     "text": [
      "url is https://staging-stac.delta-backend.xyz/search\n",
      "headers is None\n",
      "kwargs is {'limit': 1, 'collections': ['nightlights-hd-3bands']}\n"
     ]
    },
    {
     "name": "stderr",
     "output_type": "stream",
     "text": [
      "There are more items found (6) than the limit (1) provided.\n"
     ]
    },
    {
     "name": "stdout",
     "output_type": "stream",
     "text": [
      "url is https://staging-stac.delta-backend.xyz/search\n",
      "headers is None\n",
      "kwargs is {'limit': 1, 'collections': ['nightlights-hd-monthly']}\n"
     ]
    },
    {
     "name": "stderr",
     "output_type": "stream",
     "text": [
      "There are more items found (120) than the limit (1) provided.\n"
     ]
    },
    {
     "name": "stdout",
     "output_type": "stream",
     "text": [
      "url is https://staging-stac.delta-backend.xyz/search\n",
      "headers is None\n",
      "kwargs is {'limit': 1, 'collections': ['MO_NPP_npp_vgpm']}\n"
     ]
    },
    {
     "name": "stderr",
     "output_type": "stream",
     "text": [
      "There are more items found (12) than the limit (1) provided.\n"
     ]
    },
    {
     "name": "stdout",
     "output_type": "stream",
     "text": [
      "url is https://staging-stac.delta-backend.xyz/search\n",
      "headers is None\n",
      "kwargs is {'limit': 1, 'collections': ['HLSL30.002']}\n"
     ]
    },
    {
     "name": "stderr",
     "output_type": "stream",
     "text": [
      "There are more items found (226) than the limit (1) provided.\n"
     ]
    },
    {
     "ename": "SatSearchError",
     "evalue": "{\"message\":\"Service Unavailable\"}",
     "output_type": "error",
     "traceback": [
      "\u001b[0;31m---------------------------------------------------------------------------\u001b[0m",
      "\u001b[0;31mSatSearchError\u001b[0m                            Traceback (most recent call last)",
      "\u001b[0;32m/var/folders/jh/_03qbqf130l8hjh8rpc6f4_c0000gn/T/ipykernel_4107/1896105535.py\u001b[0m in \u001b[0;36m<module>\u001b[0;34m\u001b[0m\n\u001b[1;32m      6\u001b[0m         \u001b[0mlimit\u001b[0m\u001b[0;34m=\u001b[0m\u001b[0;36m1\u001b[0m\u001b[0;34m\u001b[0m\u001b[0;34m\u001b[0m\u001b[0m\n\u001b[1;32m      7\u001b[0m     )\n\u001b[0;32m----> 8\u001b[0;31m     \u001b[0mlocation\u001b[0m \u001b[0;34m=\u001b[0m \u001b[0msearch\u001b[0m\u001b[0;34m.\u001b[0m\u001b[0mitems\u001b[0m\u001b[0;34m(\u001b[0m\u001b[0;34m)\u001b[0m\u001b[0;34m[\u001b[0m\u001b[0;36m0\u001b[0m\u001b[0;34m]\u001b[0m\u001b[0;34m.\u001b[0m\u001b[0massets\u001b[0m\u001b[0;34m[\u001b[0m\u001b[0;34m'cog_default'\u001b[0m\u001b[0;34m]\u001b[0m\u001b[0;34m[\u001b[0m\u001b[0;34m'href'\u001b[0m\u001b[0;34m]\u001b[0m\u001b[0;34m\u001b[0m\u001b[0;34m\u001b[0m\u001b[0m\n\u001b[0m\u001b[1;32m      9\u001b[0m     \u001b[0mfirst_item_locations\u001b[0m\u001b[0;34m.\u001b[0m\u001b[0mappend\u001b[0m\u001b[0;34m(\u001b[0m\u001b[0mlocation\u001b[0m\u001b[0;34m)\u001b[0m\u001b[0;34m\u001b[0m\u001b[0;34m\u001b[0m\u001b[0m\n",
      "\u001b[0;32m~/miniconda3/lib/python3.9/site-packages/satsearch/search.py\u001b[0m in \u001b[0;36mitems\u001b[0;34m(self, limit, page_limit, headers)\u001b[0m\n\u001b[1;32m    116\u001b[0m                     \u001b[0m_headers\u001b[0m\u001b[0;34m.\u001b[0m\u001b[0mupdate\u001b[0m\u001b[0;34m(\u001b[0m\u001b[0mheaders\u001b[0m\u001b[0;34m)\u001b[0m\u001b[0;34m\u001b[0m\u001b[0;34m\u001b[0m\u001b[0m\n\u001b[1;32m    117\u001b[0m                     \u001b[0m_body\u001b[0m\u001b[0;34m.\u001b[0m\u001b[0mupdate\u001b[0m\u001b[0;34m(\u001b[0m\u001b[0mself\u001b[0m\u001b[0;34m.\u001b[0m\u001b[0mkwargs\u001b[0m\u001b[0;34m)\u001b[0m\u001b[0;34m\u001b[0m\u001b[0;34m\u001b[0m\u001b[0m\n\u001b[0;32m--> 118\u001b[0;31m                 \u001b[0mresp\u001b[0m \u001b[0;34m=\u001b[0m \u001b[0mself\u001b[0m\u001b[0;34m.\u001b[0m\u001b[0mquery\u001b[0m\u001b[0;34m(\u001b[0m\u001b[0murl\u001b[0m\u001b[0;34m=\u001b[0m\u001b[0mnextlink\u001b[0m\u001b[0;34m[\u001b[0m\u001b[0;34m'href'\u001b[0m\u001b[0;34m]\u001b[0m\u001b[0;34m,\u001b[0m \u001b[0mheaders\u001b[0m\u001b[0;34m=\u001b[0m\u001b[0m_headers\u001b[0m\u001b[0;34m,\u001b[0m \u001b[0;34m**\u001b[0m\u001b[0m_body\u001b[0m\u001b[0;34m)\u001b[0m\u001b[0;34m\u001b[0m\u001b[0;34m\u001b[0m\u001b[0m\n\u001b[0m\u001b[1;32m    119\u001b[0m             \u001b[0mitems\u001b[0m \u001b[0;34m+=\u001b[0m \u001b[0;34m[\u001b[0m\u001b[0mItem\u001b[0m\u001b[0;34m(\u001b[0m\u001b[0mi\u001b[0m\u001b[0;34m)\u001b[0m \u001b[0;32mfor\u001b[0m \u001b[0mi\u001b[0m \u001b[0;32min\u001b[0m \u001b[0mresp\u001b[0m\u001b[0;34m[\u001b[0m\u001b[0;34m'features'\u001b[0m\u001b[0;34m]\u001b[0m\u001b[0;34m]\u001b[0m\u001b[0;34m\u001b[0m\u001b[0;34m\u001b[0m\u001b[0m\n\u001b[1;32m    120\u001b[0m             \u001b[0mlinks\u001b[0m \u001b[0;34m=\u001b[0m \u001b[0;34m[\u001b[0m\u001b[0ml\u001b[0m \u001b[0;32mfor\u001b[0m \u001b[0ml\u001b[0m \u001b[0;32min\u001b[0m \u001b[0mresp\u001b[0m\u001b[0;34m[\u001b[0m\u001b[0;34m'links'\u001b[0m\u001b[0;34m]\u001b[0m \u001b[0;32mif\u001b[0m \u001b[0ml\u001b[0m\u001b[0;34m[\u001b[0m\u001b[0;34m'rel'\u001b[0m\u001b[0;34m]\u001b[0m \u001b[0;34m==\u001b[0m \u001b[0;34m'next'\u001b[0m\u001b[0;34m]\u001b[0m\u001b[0;34m\u001b[0m\u001b[0;34m\u001b[0m\u001b[0m\n",
      "\u001b[0;32m~/miniconda3/lib/python3.9/site-packages/satsearch/search.py\u001b[0m in \u001b[0;36mquery\u001b[0;34m(self, url, headers, **kwargs)\u001b[0m\n\u001b[1;32m     81\u001b[0m         \u001b[0;31m# API error\u001b[0m\u001b[0;34m\u001b[0m\u001b[0;34m\u001b[0m\u001b[0m\n\u001b[1;32m     82\u001b[0m         \u001b[0;32mif\u001b[0m \u001b[0mresponse\u001b[0m\u001b[0;34m.\u001b[0m\u001b[0mstatus_code\u001b[0m \u001b[0;34m!=\u001b[0m \u001b[0;36m200\u001b[0m\u001b[0;34m:\u001b[0m\u001b[0;34m\u001b[0m\u001b[0;34m\u001b[0m\u001b[0m\n\u001b[0;32m---> 83\u001b[0;31m             \u001b[0;32mraise\u001b[0m \u001b[0mSatSearchError\u001b[0m\u001b[0;34m(\u001b[0m\u001b[0mresponse\u001b[0m\u001b[0;34m.\u001b[0m\u001b[0mtext\u001b[0m\u001b[0;34m)\u001b[0m\u001b[0;34m\u001b[0m\u001b[0;34m\u001b[0m\u001b[0m\n\u001b[0m\u001b[1;32m     84\u001b[0m         \u001b[0;32mreturn\u001b[0m \u001b[0mresponse\u001b[0m\u001b[0;34m.\u001b[0m\u001b[0mjson\u001b[0m\u001b[0;34m(\u001b[0m\u001b[0;34m)\u001b[0m\u001b[0;34m\u001b[0m\u001b[0;34m\u001b[0m\u001b[0m\n\u001b[1;32m     85\u001b[0m \u001b[0;34m\u001b[0m\u001b[0m\n",
      "\u001b[0;31mSatSearchError\u001b[0m: {\"message\":\"Service Unavailable\"}"
     ]
    }
   ],
   "source": [
    "first_item_locations = []\n",
    "for collection in collections:\n",
    "    search = Search.search(\n",
    "        url=stac_api_url,\n",
    "        collections=[collection],\n",
    "        limit=1\n",
    "    )\n",
    "    location = search.items()[0].assets['cog_default']['href']\n",
    "    first_item_locations.append(location)"
   ]
  },
  {
   "cell_type": "code",
   "execution_count": 10,
   "id": "fbbe7b81",
   "metadata": {},
   "outputs": [
    {
     "data": {
      "text/plain": [
       "['s3://climatedashboard-data/social_vulnerability_index/svi_2018_tract_housing_wgs84_nopop_cog.tif',\n",
       " 's3://climatedashboard-data/OMI_trno2-COG/OMI_trno2_0.10x0.10_2021_Col3_V4.tif',\n",
       " 's3://climatedashboard-data/OMSO2PCA-COG/OMSO2PCA_LUT_SCD_2021.tif',\n",
       " 's3://climatedashboard-data/social_vulnerability_index/svi_2018_tract_overall_wgs84_cog.tif',\n",
       " 's3://climatedashboard-data/social_vulnerability_index/svi_2018_tract_overall_wgs84_nopop_cog.tif',\n",
       " 's3://climatedashboard-data/social_vulnerability_index/svi_2018_tract_household_wgs84_cog.tif',\n",
       " 's3://climatedashboard-data/social_vulnerability_index/svi_2018_tract_household_wgs84_nopop_cog.tif',\n",
       " 's3://covid-eo-data/OMNO2d_HRM/OMI_trno2_0.10x0.10_202202_Col3_V4.nc.tif',\n",
       " 's3://covid-eo-data/OMNO2d_HRMDifference/OMI_trno2_0.10x0.10_202202_Col3_V4.nc.tif',\n",
       " 's3://climatedashboard-data/facebook_population_density/hrsl_general_latest_global_cog.tif',\n",
       " 's3://climatedashboard-data/social_vulnerability_index/svi_2018_tract_minority_wgs84_cog.tif',\n",
       " 's3://climatedashboard-data/social_vulnerability_index/svi_2018_tract_minority_wgs84_nopop_cog.tif',\n",
       " 's3://climatedashboard-data/social_vulnerability_index/svi_2018_tract_socioeconomic_wgs84_cog.tif',\n",
       " 's3://climatedashboard-data/social_vulnerability_index/svi_2018_tract_socioeconomic_wgs84_nopop_cog.tif',\n",
       " 's3://climatedashboard-data/social_vulnerability_index/svi_2018_tract_housing_wgs84_cog.tif',\n",
       " 's3://climatedashboard-data/Hurricane_Ida_Blue_Tarps/70130_detections_2022-02-12.tif',\n",
       " 's3://climatedashboard-data/Hurricane_Ida_Blue_Tarps/70130_raw_2022-02-12.tif',\n",
       " 's3://climatedashboard-data/delivery/FinalBMHD_Ida2021/BMHD_Ida_NO_LA_2021-09-09.tif',\n",
       " 's3://climatedashboard-data/bmhd_30m_monthly_bkp/BMHD_VNP46A2_wu_202103_cog.tif',\n",
       " 's3://climatedashboard-data/delivery/MO_NPP_npp_vgpm/A_202012.L3m_MO_NPP_npp_vgpm_4km.tif']"
      ]
     },
     "execution_count": 10,
     "metadata": {},
     "output_type": "execute_result"
    }
   ],
   "source": [
    "first_item_locations"
   ]
  }
 ],
 "metadata": {
  "kernelspec": {
   "display_name": "Python 3 (ipykernel)",
   "language": "python",
   "name": "python3"
  },
  "language_info": {
   "codemirror_mode": {
    "name": "ipython",
    "version": 3
   },
   "file_extension": ".py",
   "mimetype": "text/x-python",
   "name": "python",
   "nbconvert_exporter": "python",
   "pygments_lexer": "ipython3",
   "version": "3.9.7"
  }
 },
 "nbformat": 4,
 "nbformat_minor": 5
}
