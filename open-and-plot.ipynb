{
 "cells": [
  {
   "cell_type": "markdown",
   "id": "c726f040",
   "metadata": {},
   "source": [
    "# Open and Plot Data {.unnumbered}\n",
    "\n",
    "This notebook demonstrates how to open the plot data using `rioxarray`, `stackstac` and `pystac_client`.\n",
    "\n",
    "* Author: Aimee Barciauskas\n",
    "* Lasted Updated Date: August 3, 2022"
   ]
  },
  {
   "cell_type": "code",
   "execution_count": null,
   "id": "aadabf9e",
   "metadata": {},
   "outputs": [],
   "source": [
    "from datetime import datetime\n",
    "import matplotlib.pyplot as plt\n",
    "from pystac_client import Client\n",
    "import rasterio as rio\n",
    "import rioxarray\n",
    "import stackstac"
   ]
  },
  {
   "cell_type": "markdown",
   "id": "aba4b5fa",
   "metadata": {},
   "source": [
    "# Accessing the data\n",
    "\n",
    "The data is in a protected bucket. Please request access by emailng aimee@developmentseed.org providing your affiliation, interest in or expected use of the dataset, and an AWS IAM role or user Amazon Resource Name (ARN). Once you have provided the role you will use to access the data, the team will add that role or user ARN to the permitted list of identities which can assume a role with read access to the data. The code in `create_rio_session.py` can then be used to assume this read-access role, identified in that code by the environment variable `AWS_ROLE`."
   ]
  },
  {
   "cell_type": "code",
   "execution_count": null,
   "id": "e7fd36e5",
   "metadata": {},
   "outputs": [],
   "source": [
    "%run -i 'create_rio_session.py'"
   ]
  },
  {
   "cell_type": "markdown",
   "id": "6aeabc33",
   "metadata": {},
   "source": [
    "# Declare your collection of interest\n",
    "\n",
    "You can discover available collections the following ways:\n",
    "\n",
    "* Use the `{STAC_API_URL}/collections` API endpoint (JSON response)\n",
    "* Programmatically using `pystac` (see example in the `list-collections.ipynb` notebook\n",
    "* In the STAC Browser: http://delta-staging-stac-browser.s3-website-us-east-1.amazonaws.com/"
   ]
  },
  {
   "cell_type": "code",
   "execution_count": null,
   "id": "66c3ba97",
   "metadata": {},
   "outputs": [],
   "source": [
    "STAC_API_URL = 'https://staging-stac.delta-backend.com/'\n",
    "collection = 'social-vulnerability-index-overall-nopop'"
   ]
  },
  {
   "cell_type": "markdown",
   "id": "fc316ef9",
   "metadata": {},
   "source": [
    "## Use satsearch to discover items in the social-vulnerability-index-socioeconomic-nopop collection"
   ]
  },
  {
   "cell_type": "code",
   "execution_count": null,
   "id": "8efe9b34",
   "metadata": {},
   "outputs": [],
   "source": [
    "client = Client.open(STAC_API_URL)\n",
    "search = client.search(\n",
    "    collections=[collection],\n",
    "    datetime=[datetime.datetime(2000,1,1), datetime.datetime(2019,1,1)],\n",
    "    limit=10\n",
    ")\n",
    "items = list(search.items())"
   ]
  },
  {
   "cell_type": "code",
   "execution_count": null,
   "id": "c3596fab",
   "metadata": {},
   "outputs": [],
   "source": [
    "len(items)"
   ]
  },
  {
   "cell_type": "markdown",
   "id": "91fdfe14",
   "metadata": {},
   "source": [
    "## Create an `xarray.DataArray`"
   ]
  },
  {
   "cell_type": "code",
   "execution_count": null,
   "id": "3917318d",
   "metadata": {},
   "outputs": [],
   "source": [
    "s3_link = items[0].assets['cog_default'].href\n",
    "da = rioxarray.open_rasterio(s3_link)\n",
    "da"
   ]
  },
  {
   "cell_type": "code",
   "execution_count": null,
   "id": "a4c56545",
   "metadata": {},
   "outputs": [],
   "source": [
    "da = da.squeeze('band', drop=True)\n",
    "da"
   ]
  },
  {
   "cell_type": "code",
   "execution_count": null,
   "id": "bc19dfd4",
   "metadata": {},
   "outputs": [],
   "source": [
    "plt.figure(figsize=[15, 8])\n",
    "da.plot(x='x', y='y', vmin=0, vmax=1)"
   ]
  }
 ],
 "metadata": {
  "kernelspec": {
   "display_name": "VEDA Documentation",
   "language": "python",
   "name": "env-veda-documentation"
  },
  "language_info": {
   "codemirror_mode": {
    "name": "ipython",
    "version": 3
   },
   "file_extension": ".py",
   "mimetype": "text/x-python",
   "name": "python",
   "nbconvert_exporter": "python",
   "pygments_lexer": "ipython3",
   "version": "3.8.3"
  }
 },
 "nbformat": 4,
 "nbformat_minor": 5
}
