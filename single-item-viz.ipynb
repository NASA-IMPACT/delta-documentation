{
 "cells": [
  {
   "cell_type": "markdown",
   "id": "785f8d6e",
   "metadata": {},
   "source": [
    "# Single Item Viz{.unnumbered}"
   ]
  },
  {
   "cell_type": "code",
   "execution_count": null,
   "id": "1061f724",
   "metadata": {},
   "outputs": [],
   "source": [
    "import requests as re\n",
    "import folium\n",
    "\n",
    "STAC_ENDPOINT_URL = \"https://staging-stac.delta-backend.com\"\n",
    "RASTER_ENDPOINT_URL = \"https://staging-raster.delta-backend.com\""
   ]
  },
  {
   "cell_type": "code",
   "execution_count": null,
   "id": "59052865",
   "metadata": {
    "scrolled": true
   },
   "outputs": [],
   "source": [
    "no2_collection_summary = re.get(f\"{STAC_ENDPOINT_URL}/collections/no2-monthly\").json()\n",
    "no2_collection_summary"
   ]
  },
  {
   "cell_type": "code",
   "execution_count": null,
   "id": "7bc42fff",
   "metadata": {},
   "outputs": [],
   "source": [
    "rescale_values = no2_collection_summary[\"summaries\"][\"cog_default\"]\n",
    "rescale_values"
   ]
  },
  {
   "cell_type": "code",
   "execution_count": null,
   "id": "b5eb7467",
   "metadata": {},
   "outputs": [],
   "source": [
    "response = re.post(\n",
    "    f\"{STAC_ENDPOINT_URL}/search\", \n",
    "    json={\n",
    "        \"collections\": [\"no2-monthly\"], \n",
    "        \"query\": {\"datetime\": {\"eq\":\"2021-01-01T00:00:00\"}},\n",
    "        \"limit\": 100\n",
    "    }\n",
    ").json()\n",
    "item = response[\"features\"][0]\n",
    "item"
   ]
  },
  {
   "cell_type": "code",
   "execution_count": null,
   "id": "71acb916",
   "metadata": {},
   "outputs": [],
   "source": [
    "tiles = re.get(\n",
    "    f\"{RASTER_ENDPOINT_URL}/stac/tilejson.json?collection={item['collection']}&item={item['id']}&assets=cog_default&color_formula=gamma+r+1.05&colormap_name=rdbu_r&rescale=0%2C15000000000000000\", \n",
    ").json()\n",
    "tiles"
   ]
  },
  {
   "cell_type": "code",
   "execution_count": null,
   "id": "b4792eed",
   "metadata": {},
   "outputs": [],
   "source": [
    "m = folium.Map(\n",
    "    zoom_start=2,\n",
    "    scroll_wheel_zoom=True, \n",
    "    tiles=tiles[\"tiles\"][0], \n",
    "    attr=\"VEDA\", \n",
    "    minzoom=18, \n",
    "    maxzoom=0, \n",
    "    \n",
    ")\n",
    "\n",
    "m"
   ]
  }
 ],
 "metadata": {
  "kernelspec": {
   "display_name": "VEDA Documentation",
   "language": "python",
   "name": "env-veda-documentation"
  },
  "language_info": {
   "codemirror_mode": {
    "name": "ipython",
    "version": 3
   },
   "file_extension": ".py",
   "mimetype": "text/x-python",
   "name": "python",
   "nbconvert_exporter": "python",
   "pygments_lexer": "ipython3",
   "version": "3.8.3"
  }
 },
 "nbformat": 4,
 "nbformat_minor": 5
}
