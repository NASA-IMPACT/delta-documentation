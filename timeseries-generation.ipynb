{
 "cells": [
  {
   "cell_type": "markdown",
   "id": "eb4fb6e5",
   "metadata": {},
   "source": [
    "# Timeseries generation demo\n",
    "\n",
    "In this notebook we'll be exploring the timeseries generation functionality provided by the new endpoints that @Alex Kirk has deployed to the delta-backend API"
   ]
  },
  {
   "cell_type": "code",
   "execution_count": 1,
   "id": "a21597e1",
   "metadata": {},
   "outputs": [],
   "source": [
    "import requests as re\n",
    "import matplotlib.pyplot as plt\n",
    "import json\n",
    "import datetime as dt\n",
    "from ipyleaflet import Map, GeoJSON\n",
    "import time\n",
    "import concurrent.futures\n",
    "from datetime import datetime\n",
    "\n",
    "STAC_ENDPOINT_URL = \"https://staging-stac.delta-backend.xyz\"\n",
    "RASTER_ENDPOINT_URL = \"https://staging-raster.delta-backend.xyz\""
   ]
  },
  {
   "cell_type": "markdown",
   "id": "924655ba",
   "metadata": {},
   "source": [
    "## Data discovery using the STAC endpoint"
   ]
  },
  {
   "cell_type": "code",
   "execution_count": 2,
   "id": "c3af981d",
   "metadata": {},
   "outputs": [
    {
     "data": {
      "text/plain": [
       "'no2-monthly'"
      ]
     },
     "execution_count": 2,
     "metadata": {},
     "output_type": "execute_result"
    }
   ],
   "source": [
    "re.get(f\"{STAC_ENDPOINT_URL}/collections\").json()[\"collections\"][8][\"id\"]"
   ]
  },
  {
   "cell_type": "code",
   "execution_count": 3,
   "id": "b53ee50a",
   "metadata": {
    "scrolled": false
   },
   "outputs": [
    {
     "data": {
      "text/plain": [
       "{'id': 'no2-monthly',\n",
       " 'type': 'Collection',\n",
       " 'links': [{'rel': 'items',\n",
       "   'type': 'application/geo+json',\n",
       "   'href': 'https://staging-stac.delta-backend.xyz/collections/no2-monthly/items'},\n",
       "  {'rel': 'parent',\n",
       "   'type': 'application/json',\n",
       "   'href': 'https://staging-stac.delta-backend.xyz/'},\n",
       "  {'rel': 'root',\n",
       "   'type': 'application/json',\n",
       "   'href': 'https://staging-stac.delta-backend.xyz/'},\n",
       "  {'rel': 'self',\n",
       "   'type': 'application/json',\n",
       "   'href': 'https://staging-stac.delta-backend.xyz/collections/no2-monthly'}],\n",
       " 'title': 'NO₂ Monthly',\n",
       " 'extent': {'spatial': {'bbox': [[-180, -90, 180, 90]]},\n",
       "  'temporal': {'interval': [['2016-01-01T00:00:00Z',\n",
       "     '2022-01-01T00:00:00Z']]}},\n",
       " 'license': 'MIT',\n",
       " 'summaries': {'datetime': ['2016-01-01T00:00:00Z', '2022-02-01T00:00:00Z'],\n",
       "  'cog_default': {'max': 50064805976866816, 'min': -6618294421291008}},\n",
       " 'description': 'Darker colors indicate higher nitrogen dioxide (NO₂) levels and more activity. Lighter colors indicate lower levels of NO₂ and less activity. Missing pixels indicate areas of no data most likely associated with cloud cover or snow.',\n",
       " 'item_assets': {'cog_default': {'type': 'image/tiff; application=geotiff; profile=cloud-optimized',\n",
       "   'roles': ['data', 'layer'],\n",
       "   'title': 'Default COG Layer',\n",
       "   'description': 'Cloud optimized default layer to display on map'}},\n",
       " 'stac_version': '1.0.0',\n",
       " 'stac_extensions': ['https://stac-extensions.github.io/item-assets/v1.0.0/schema.json'],\n",
       " 'dashboard:is_periodic': True,\n",
       " 'dashboard:time_density': 'month'}"
      ]
     },
     "execution_count": 3,
     "metadata": {},
     "output_type": "execute_result"
    }
   ],
   "source": [
    "re.get(f\"{STAC_ENDPOINT_URL}/collections/no2-monthly\").json()"
   ]
  },
  {
   "cell_type": "code",
   "execution_count": 4,
   "id": "1cb72339",
   "metadata": {
    "scrolled": true
   },
   "outputs": [
    {
     "data": {
      "text/plain": [
       "{'summaries': {'datetime': ['2016-01-01T00:00:00Z', '2022-02-01T00:00:00Z'],\n",
       "  'cog_default': {'max': 50064805976866816, 'min': -6618294421291008}},\n",
       " 'dashboard:is_periodic': True,\n",
       " 'dashboard:time_density': 'month'}"
      ]
     },
     "execution_count": 4,
     "metadata": {},
     "output_type": "execute_result"
    }
   ],
   "source": [
    "{k:v for k,v in re.get(f\"{STAC_ENDPOINT_URL}/collections/no2-monthly\").json().items() if k in [\"dashboard:is_periodic\", \"dashboard:time_density\", \"summaries\"]}"
   ]
  },
  {
   "cell_type": "code",
   "execution_count": 5,
   "id": "a1554809",
   "metadata": {},
   "outputs": [],
   "source": [
    "items = re.get(f\"{STAC_ENDPOINT_URL}/collections/no2-monthly/items?limit=100\").json()[\"features\"]"
   ]
  },
  {
   "cell_type": "code",
   "execution_count": 6,
   "id": "526394c3",
   "metadata": {},
   "outputs": [
    {
     "data": {
      "text/plain": [
       "{'id': 'OMI_trno2_0.10x0.10_202202_Col3_V4-no2-monthly',\n",
       " 'bbox': [-180.0, -90.0, 180.0, 90.0],\n",
       " 'type': 'Feature',\n",
       " 'links': [{'rel': 'collection',\n",
       "   'type': 'application/json',\n",
       "   'href': 'https://staging-stac.delta-backend.xyz/collections/no2-monthly'},\n",
       "  {'rel': 'parent',\n",
       "   'type': 'application/json',\n",
       "   'href': 'https://staging-stac.delta-backend.xyz/collections/no2-monthly'},\n",
       "  {'rel': 'root',\n",
       "   'type': 'application/json',\n",
       "   'href': 'https://staging-stac.delta-backend.xyz/'},\n",
       "  {'rel': 'self',\n",
       "   'type': 'application/geo+json',\n",
       "   'href': 'https://staging-stac.delta-backend.xyz/collections/no2-monthly/items/OMI_trno2_0.10x0.10_202202_Col3_V4-no2-monthly'}],\n",
       " 'assets': {'cog_default': {'href': 's3://covid-eo-data/OMNO2d_HRM/OMI_trno2_0.10x0.10_202202_Col3_V4.nc.tif',\n",
       "   'type': 'image/tiff; application=geotiff; profile=cloud-optimized',\n",
       "   'roles': ['data', 'layer'],\n",
       "   'raster:bands': [{'scale': 1.0,\n",
       "     'nodata': 'inf',\n",
       "     'offset': 0.0,\n",
       "     'sampling': 'area',\n",
       "     'data_type': 'float32',\n",
       "     'histogram': {'max': 27294749094313984,\n",
       "      'min': -2361326311571456.0,\n",
       "      'count': 11,\n",
       "      'buckets': [405729, 55726, 2526, 676, 253, 70, 9, 5, 6, 2]},\n",
       "     'statistics': {'mean': 349305160444321.25,\n",
       "      'stddev': 685701028136779.2,\n",
       "      'maximum': 27294749094313984,\n",
       "      'minimum': -2361326311571456.0,\n",
       "      'valid_percent': 88.69209289550781}}]}},\n",
       " 'geometry': {'type': 'Polygon',\n",
       "  'coordinates': [[[-180.0, 90.0],\n",
       "    [-180.0, -90.0],\n",
       "    [180.0, -90.0],\n",
       "    [180.0, 90.0],\n",
       "    [-180.0, 90.0]]]},\n",
       " 'collection': 'no2-monthly',\n",
       " 'properties': {'datetime': '2022-02-01T00:00:00Z',\n",
       "  'proj:bbox': [-180.0, -90.0, 180.0, 90.0],\n",
       "  'proj:epsg': 4326,\n",
       "  'proj:shape': [1800, 3600],\n",
       "  'proj:geometry': {'type': 'Polygon',\n",
       "   'coordinates': [[[-180.0, 90.0],\n",
       "     [-180.0, -90.0],\n",
       "     [180.0, -90.0],\n",
       "     [180.0, 90.0],\n",
       "     [-180.0, 90.0]]]},\n",
       "  'proj:transform': [0.1, 0.0, -180.0, 0.0, -0.1, 90.0, 0.0, 0.0, 1.0]},\n",
       " 'stac_version': '1.0.0',\n",
       " 'stac_extensions': ['https://stac-extensions.github.io/projection/v1.0.0/schema.json',\n",
       "  'https://stac-extensions.github.io/raster/v1.1.0/schema.json']}"
      ]
     },
     "execution_count": 6,
     "metadata": {},
     "output_type": "execute_result"
    }
   ],
   "source": [
    "items[0]"
   ]
  },
  {
   "cell_type": "code",
   "execution_count": 7,
   "id": "e60f264c",
   "metadata": {},
   "outputs": [],
   "source": [
    "bounding_box_france = { \n",
    "    \"type\": \"Feature\",\n",
    "    \"properties\": {},\n",
    "    \"geometry\": {\n",
    "        \"type\": \"Polygon\",\n",
    "        \"coordinates\": [[\n",
    "            [\n",
    "              -5.4534286,\n",
    "              41.2632185\n",
    "            ],\n",
    "            [\n",
    "              9.8678344,\n",
    "              41.2632185\n",
    "            ],\n",
    "            [\n",
    "              9.8678344,\n",
    "              51.268318\n",
    "            ],\n",
    "            [\n",
    "              -5.4534286,\n",
    "              51.268318\n",
    "            ],\n",
    "            [\n",
    "              -5.4534286,\n",
    "              41.2632185\n",
    "            ]\n",
    "        ]]\n",
    "    }\n",
    "}\n",
    "\n"
   ]
  },
  {
   "cell_type": "code",
   "execution_count": 8,
   "id": "c7586f0d",
   "metadata": {
    "scrolled": false
   },
   "outputs": [
    {
     "data": {
      "application/vnd.jupyter.widget-view+json": {
       "model_id": "d68eedb6894b4b73b3f5cf96750ca230",
       "version_major": 2,
       "version_minor": 0
      },
      "text/plain": [
       "Map(center=[47, 4], controls=(ZoomControl(options=['position', 'zoom_in_text', 'zoom_in_title', 'zoom_out_text…"
      ]
     },
     "metadata": {},
     "output_type": "display_data"
    }
   ],
   "source": [
    "m = Map(center=(47,4), zoom=3)\n",
    "geo = GeoJSON(data=bounding_box_france, style={\"color\":\"red\", \"fillOpacity\":0})\n",
    "m.add_layer(geo)\n",
    "m"
   ]
  },
  {
   "cell_type": "code",
   "execution_count": 9,
   "id": "4ba40c1a",
   "metadata": {},
   "outputs": [],
   "source": [
    "def generate_stats(items, bounding_box):\n",
    "    stats = [\n",
    "        {\n",
    "            **re.post(\n",
    "                f\"{RASTER_ENDPOINT_URL}/cog/statistics\", \n",
    "                params={\n",
    "                    \"url\":item[\"assets\"][\"cog_default\"][\"href\"]\n",
    "                },\n",
    "                json=bounding_box\n",
    "            ).json()[\"properties\"], \n",
    "             \"datetime\":item[\"properties\"][\"datetime\"]\n",
    "        }\n",
    "        for item in items\n",
    "    ]\n",
    "    return stats"
   ]
  },
  {
   "cell_type": "code",
   "execution_count": 10,
   "id": "4f859305",
   "metadata": {
    "scrolled": true
   },
   "outputs": [
    {
     "name": "stdout",
     "output_type": "stream",
     "text": [
      "Elapsed time for small bounding box (france) 28.13 seconds. Items queried: 74\n"
     ]
    }
   ],
   "source": [
    "start = time.time()\n",
    "stats = generate_stats(items, bounding_box_france)\n",
    "end = time.time()\n",
    "print(f\"Elapsed time for small bounding box (france) {round(end-start,2)} seconds. Items queried: {len(items)}\")"
   ]
  },
  {
   "cell_type": "code",
   "execution_count": 11,
   "id": "5340a615",
   "metadata": {},
   "outputs": [
    {
     "data": {
      "text/plain": [
       "{'statistics': {'1': {'min': -1084004715462656.0,\n",
       "   'max': 1.0274760067907584e+16,\n",
       "   'mean': 1771445372358347.5,\n",
       "   'count': 15149.0,\n",
       "   'sum': 2.6835625945856606e+19,\n",
       "   'std': 1214133036547102.0,\n",
       "   'median': 1508695175331840.0,\n",
       "   'majority': 4887620706369536.0,\n",
       "   'minority': -1084004715462656.0,\n",
       "   'unique': 15138.0,\n",
       "   'histogram': [[216.0,\n",
       "     4901.0,\n",
       "     6675.0,\n",
       "     1896.0,\n",
       "     937.0,\n",
       "     323.0,\n",
       "     146.0,\n",
       "     36.0,\n",
       "     14.0,\n",
       "     5.0],\n",
       "    [-1084004715462656.0,\n",
       "     51871762874368.0,\n",
       "     1187748241211392.0,\n",
       "     2323624719548416.0,\n",
       "     3459501197885440.0,\n",
       "     4595377676222464.0,\n",
       "     5731254154559488.0,\n",
       "     6867130632896512.0,\n",
       "     8003007111233536.0,\n",
       "     9138883589570560.0,\n",
       "     1.0274760067907584e+16]],\n",
       "   'valid_percent': 99.01,\n",
       "   'masked_pixels': 151.0,\n",
       "   'valid_pixels': 15149.0,\n",
       "   'percentile_2': 138399994011975.67,\n",
       "   'percentile_98': 5268545328696521.0}},\n",
       " 'datetime': '2022-02-01T00:00:00Z'}"
      ]
     },
     "execution_count": 11,
     "metadata": {},
     "output_type": "execute_result"
    }
   ],
   "source": [
    "stats[0]"
   ]
  },
  {
   "cell_type": "code",
   "execution_count": 12,
   "id": "85641f5f",
   "metadata": {},
   "outputs": [],
   "source": [
    "dates = [dt.datetime.strptime(stat[\"datetime\"], \"%Y-%m-%dT%H:%M:%SZ\") for stat in stats]\n",
    "means = [stat[\"statistics\"][\"1\"][\"mean\"] for stat in stats]\n",
    "std_devs = [stat[\"statistics\"][\"1\"][\"std\"] for stat in stats]\n",
    "upper_bounds = [m+s for (m,s) in zip(means, std_devs)]\n",
    "lower_bounds = [m-s for (m,s) in zip(means, std_devs)]"
   ]
  },
  {
   "cell_type": "code",
   "execution_count": 13,
   "id": "e45a4ee7",
   "metadata": {},
   "outputs": [
    {
     "data": {
      "text/plain": [
       "<matplotlib.collections.PolyCollection at 0x114a33160>"
      ]
     },
     "execution_count": 13,
     "metadata": {},
     "output_type": "execute_result"
    },
    {
     "data": {
      "image/png": "[encoded data removed]",
      "text/plain": [
       "<Figure size 432x288 with 1 Axes>"
      ]
     },
     "metadata": {
      "needs_background": "light"
     },
     "output_type": "display_data"
    }
   ],
   "source": [
    "plt.plot(dates, means, 'black')\n",
    "plt.fill_between(dates, upper_bounds, lower_bounds, facecolor=\"lightgrey\", interpolate=True)"
   ]
  },
  {
   "cell_type": "code",
   "execution_count": 14,
   "id": "478ef01a",
   "metadata": {},
   "outputs": [],
   "source": [
    "bounding_box_europe = {\n",
    "      \"type\": \"Feature\",\n",
    "      \"properties\": {},\n",
    "      \"geometry\": {\n",
    "        \"type\": \"Polygon\",\n",
    "        \"coordinates\": [\n",
    "          [\n",
    "            [\n",
    "              -28.125,\n",
    "              21.94304553343818\n",
    "            ],\n",
    "            [\n",
    "              78.046875,\n",
    "              21.94304553343818\n",
    "            ],\n",
    "            [\n",
    "              78.046875,\n",
    "              67.87554134672945\n",
    "            ],\n",
    "            [\n",
    "              -28.125,\n",
    "              67.87554134672945\n",
    "            ],\n",
    "            [\n",
    "              -28.125,\n",
    "              21.94304553343818\n",
    "            ]\n",
    "          ]\n",
    "        ]\n",
    "      }\n",
    "    }"
   ]
  },
  {
   "cell_type": "code",
   "execution_count": 15,
   "id": "fed7d713",
   "metadata": {},
   "outputs": [
    {
     "data": {
      "application/vnd.jupyter.widget-view+json": {
       "model_id": "54317d6edb5b4b459c2a81879c1d9bc6",
       "version_major": 2,
       "version_minor": 0
      },
      "text/plain": [
       "Map(center=[47, 4], controls=(ZoomControl(options=['position', 'zoom_in_text', 'zoom_in_title', 'zoom_out_text…"
      ]
     },
     "metadata": {},
     "output_type": "display_data"
    }
   ],
   "source": [
    "m = Map(center=(47,4), zoom=2)\n",
    "geo = GeoJSON(data=bounding_box_europe, style={\"color\":\"blue\", \"fillOpacity\":0})\n",
    "m.add_layer(geo)\n",
    "geo = GeoJSON(data=bounding_box_france, style={\"color\":\"red\", \"fillOpacity\":0})\n",
    "m.add_layer(geo)\n",
    "m"
   ]
  },
  {
   "cell_type": "code",
   "execution_count": 16,
   "id": "98c09984",
   "metadata": {},
   "outputs": [
    {
     "name": "stdout",
     "output_type": "stream",
     "text": [
      "Elapsed time for large bounding box (europe) 84.86 seconds. Items queried: 74\n"
     ]
    }
   ],
   "source": [
    "start = time.time()\n",
    "stats_europe = generate_stats(items, bounding_box_europe)\n",
    "end = time.time()\n",
    "print(f\"Elapsed time for large bounding box (europe) {round(end-start,2)} seconds. Items queried: {len(items)}\")"
   ]
  },
  {
   "cell_type": "code",
   "execution_count": 17,
   "id": "2c783ed9",
   "metadata": {},
   "outputs": [],
   "source": [
    "def get_stats_for_stac_item(item, bounding_box):\n",
    "    return {\n",
    "        **re.post(\n",
    "            f\"{RASTER_ENDPOINT_URL}/cog/statistics\", \n",
    "            params={\n",
    "                \"url\":item[\"assets\"][\"cog_default\"][\"href\"]\n",
    "            },\n",
    "            json=bounding_box\n",
    "        ).json()[\"properties\"], \n",
    "         \"datetime\":item[\"properties\"][\"datetime\"]\n",
    "    }\n",
    "\n",
    "\n",
    "def generate_stats_parallel(items, bounding_box):\n",
    "    with concurrent.futures.ThreadPoolExecutor(max_workers=10) as executor:\n",
    "        results = list(\n",
    "            executor.map(\n",
    "                lambda item: get_stats_for_stac_item(item, bounding_box), \n",
    "                items\n",
    "            )\n",
    "        ) \n",
    "    return results\n"
   ]
  },
  {
   "cell_type": "code",
   "execution_count": 18,
   "id": "2f84c92c",
   "metadata": {},
   "outputs": [
    {
     "name": "stdout",
     "output_type": "stream",
     "text": [
      "Elapsed time for large bounding box (europe) IN PARALLEL 10.33 seconds. Items queried: 74\n"
     ]
    },
    {
     "data": {
      "text/plain": [
       "{'statistics': {'1': {'min': -3660238775386112.0,\n",
       "   'max': 1.839223322496205e+16,\n",
       "   'mean': 879081748998886.2,\n",
       "   'count': 443824.0,\n",
       "   'sum': 3.901575781676817e+20,\n",
       "   'std': 967804536142868.5,\n",
       "   'median': 563360156352512.0,\n",
       "   'majority': 200852585316352.0,\n",
       "   'minority': -3660238775386112.0,\n",
       "   'unique': 439006.0,\n",
       "   'histogram': [[57.0,\n",
       "     279092.0,\n",
       "     144784.0,\n",
       "     16787.0,\n",
       "     2624.0,\n",
       "     383.0,\n",
       "     74.0,\n",
       "     16.0,\n",
       "     6.0,\n",
       "     1.0],\n",
       "    [-3660238775386112.0,\n",
       "     -1454991575351296.0,\n",
       "     750255624683520.0,\n",
       "     2955502824718336.0,\n",
       "     5160750024753152.0,\n",
       "     7365997224787968.0,\n",
       "     9571244424822784.0,\n",
       "     1.17764916248576e+16,\n",
       "     1.3981738824892416e+16,\n",
       "     1.6186986024927232e+16,\n",
       "     1.839223322496205e+16]],\n",
       "   'valid_percent': 97.84,\n",
       "   'masked_pixels': 9808.0,\n",
       "   'valid_pixels': 443824.0,\n",
       "   'percentile_98': 3907798709273883.0,\n",
       "   'percentile_2': -57889157850071.04}},\n",
       " 'datetime': '2022-02-01T00:00:00Z'}"
      ]
     },
     "execution_count": 18,
     "metadata": {},
     "output_type": "execute_result"
    }
   ],
   "source": [
    "start = time.time()\n",
    "stats_europe = generate_stats_parallel(items, bounding_box_europe)\n",
    "end = time.time()\n",
    "print(f\"Elapsed time for large bounding box (europe) IN PARALLEL {round(end-start,2)} seconds. Items queried: {len(items)}\")\n",
    "stats_europe[0]"
   ]
  },
  {
   "cell_type": "code",
   "execution_count": 19,
   "id": "21e74459",
   "metadata": {},
   "outputs": [
    {
     "name": "stdout",
     "output_type": "stream",
     "text": [
      "Elapsed time for large bounding box (europe) 89.54 seconds. Items queried: 74\n",
      "{'mean': 878818261655406.0, 'median': 562746412236800.0}\n",
      "Elapsed time for large bounding box (europe) IN PARALLEL 10.7 seconds. Items queried: 74\n",
      "{'mean': 878818261655406.0, 'median': 562746412236800.0}\n"
     ]
    }
   ],
   "source": [
    "OLD_API_URL = \"https://8ib71h0627.execute-api.us-east-1.amazonaws.com/v1\"\n",
    "start = time.time()\n",
    "stats = [\n",
    "    re.post(\n",
    "        f\"{OLD_API_URL}/timelapse\", \n",
    "        json={\n",
    "            \"geojson\": bounding_box_europe, \n",
    "            \"date\":datetime.strptime(item[\"properties\"][\"datetime\"], \"%Y-%m-%dT%H:%M:%SZ\").strftime(\"%Y%m\"),\n",
    "            \"datasetId\": \"no2\", \n",
    "        }\n",
    "    ) \n",
    "    for item in items\n",
    "]\n",
    "end = time.time()\n",
    "print(f\"Elapsed time for large bounding box (europe) {round(end-start,2)} seconds. Items queried: {len(items)}\")\n",
    "print(stats[0].json())\n",
    "\n",
    "start = time.time()\n",
    "with concurrent.futures.ThreadPoolExecutor(max_workers=10) as executor:\n",
    "    stats = list(\n",
    "        executor.map(\n",
    "            lambda item: re.post(\n",
    "                f\"{OLD_API_URL}/timelapse\", \n",
    "                json={\n",
    "                    \"geojson\": bounding_box_europe, \n",
    "                    \"date\":datetime.strptime(item[\"properties\"][\"datetime\"], \"%Y-%m-%dT%H:%M:%SZ\").strftime(\"%Y%m\"),\n",
    "                    \"datasetId\": \"no2\", \n",
    "                }\n",
    "            ) , \n",
    "            items\n",
    "        )\n",
    "    ) \n",
    "end = time.time()\n",
    "print(f\"Elapsed time for large bounding box (europe) IN PARALLEL {round(end-start,2)} seconds. Items queried: {len(items)}\")\n",
    "print(stats[0].json())"
   ]
  }
 ],
 "metadata": {
  "kernelspec": {
   "display_name": "Python 3 (ipykernel)",
   "language": "python",
   "name": "python3"
  },
  "language_info": {
   "codemirror_mode": {
    "name": "ipython",
    "version": 3
   },
   "file_extension": ".py",
   "mimetype": "text/x-python",
   "name": "python",
   "nbconvert_exporter": "python",
   "pygments_lexer": "ipython3",
   "version": "3.9.7"
  }
 },
 "nbformat": 4,
 "nbformat_minor": 5
}
