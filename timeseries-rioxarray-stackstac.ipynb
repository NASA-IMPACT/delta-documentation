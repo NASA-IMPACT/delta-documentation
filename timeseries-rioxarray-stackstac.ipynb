{
 "cells": [
  {
   "cell_type": "markdown",
   "id": "c726f040",
   "metadata": {},
   "source": [
    "# Time series using rioxarray and stackstac {.unnumbered}\n",
    "\n",
    "This notebook demonstrates how to generate a timeseries via `rioxarray`, `pystac_client` and `stackstac`.\n",
    "\n",
    "* Author: Aimee Barciauskas\n",
    "* Lasted Updated Date: August 3, 2022"
   ]
  },
  {
   "cell_type": "code",
   "execution_count": null,
   "id": "aadabf9e",
   "metadata": {},
   "outputs": [],
   "source": [
    "import rioxarray\n",
    "from pystac_client import Client"
   ]
  },
  {
   "cell_type": "markdown",
   "id": "9bc15c54",
   "metadata": {},
   "source": [
    "# Accessing the data\n",
    "\n",
    "The data is in a protected bucket. Please request access by emailng aimee@developmentseed.org providing your affiliation, interest in or expected use of the dataset, and an AWS IAM role or user Amazon Resource Name (ARN). Once you have provided the role you will use to access the data, the team will add that role or user ARN to the permitted list of identities which can assume a role with read access to the data. The code in `create_rio_session.py` can then be used to assume this read-access role, identified in that code by the environment variable `AWS_ROLE`."
   ]
  },
  {
   "cell_type": "code",
   "execution_count": null,
   "id": "1da42128",
   "metadata": {},
   "outputs": [],
   "source": [
    "# Skip this if running in AWS Sagemaker\n",
    "%run -i 'create_rio_session.py'"
   ]
  },
  {
   "cell_type": "markdown",
   "id": "e475ecd6",
   "metadata": {},
   "source": [
    "# Declare your collection of interest\n",
    "\n",
    "You can discover available collections the following ways:\n",
    "\n",
    "* Use the `{STAC_API_URL}/collections` API endpoint (JSON response)\n",
    "* Programmatically using `pystac` (see example in the `list-collections.ipynb` notebook\n",
    "* In the STAC Browser: http://delta-staging-stac-browser.s3-website-us-east-1.amazonaws.com/"
   ]
  },
  {
   "cell_type": "code",
   "execution_count": null,
   "id": "86e9bb41",
   "metadata": {},
   "outputs": [],
   "source": [
    "STAC_API_URL = 'https://staging-stac.delta-backend.com/'\n",
    "collection = 'no2-monthly'"
   ]
  },
  {
   "cell_type": "markdown",
   "id": "fc316ef9",
   "metadata": {},
   "source": [
    "## Use satsearch to discover items in the no2-monthly collection for China"
   ]
  },
  {
   "cell_type": "code",
   "execution_count": null,
   "id": "8efe9b34",
   "metadata": {},
   "outputs": [],
   "source": [
    "china_bbox = [\n",
    "    73.675,\n",
    "    18.198,\n",
    "    135.026,\n",
    "    53.459\n",
    "]\n",
    "datetime = \"2000-01-01T00:00:00Z/2022-01-02T00:00:00Z\"\n",
    "client = Client.open(STAC_API_URL)\n",
    "\n",
    "search = client.search(\n",
    "    bbox=china_bbox,\n",
    "    datetime=datetime,\n",
    "    collections=[collection],\n",
    "    limit=1000\n",
    ")\n",
    "items = list(search.items())"
   ]
  },
  {
   "cell_type": "code",
   "execution_count": null,
   "id": "c3596fab",
   "metadata": {},
   "outputs": [],
   "source": [
    "len(items)"
   ]
  },
  {
   "cell_type": "markdown",
   "id": "beacc93f",
   "metadata": {},
   "source": [
    "## Create an `xarray.DataArray` using `stackstac`"
   ]
  },
  {
   "cell_type": "code",
   "execution_count": null,
   "id": "7bba4a45",
   "metadata": {},
   "outputs": [],
   "source": [
    "stack = stackstac.stack(items)\n",
    "stack = stack.assign_coords({\"time\": stack.start_datetime})\n",
    "stack"
   ]
  },
  {
   "cell_type": "markdown",
   "id": "981bdeb8",
   "metadata": {},
   "source": [
    "## Clip the data to the bounding box for China"
   ]
  },
  {
   "cell_type": "code",
   "execution_count": null,
   "id": "60296986",
   "metadata": {},
   "outputs": [],
   "source": [
    "# Subset to Bounding Box for China\n",
    "subset = stack.rio.clip_box(\n",
    "    minx=china_bbox[0],\n",
    "    miny=china_bbox[1],\n",
    "    maxx=china_bbox[2],\n",
    "    maxy=china_bbox[3]\n",
    ")\n",
    "subset"
   ]
  },
  {
   "cell_type": "markdown",
   "id": "01c72503",
   "metadata": {},
   "source": [
    "## Select a band of data\n",
    "\n",
    "There is just one band in this case, `cog_default`."
   ]
  },
  {
   "cell_type": "code",
   "execution_count": null,
   "id": "be794df9",
   "metadata": {},
   "outputs": [],
   "source": [
    "# select the band default\n",
    "data_band = subset.sel(band='cog_default')\n",
    "data_band"
   ]
  },
  {
   "cell_type": "code",
   "execution_count": null,
   "id": "389f7234",
   "metadata": {},
   "outputs": [],
   "source": [
    "# Group data into months\n",
    "dates = data_band.groupby('time')"
   ]
  },
  {
   "cell_type": "code",
   "execution_count": null,
   "id": "f7978231",
   "metadata": {},
   "outputs": [],
   "source": [
    "# Average over entire spatial bounding box for each month\n",
    "means = dates.mean(dim=('x', 'y'))"
   ]
  },
  {
   "cell_type": "code",
   "execution_count": null,
   "id": "503c83af",
   "metadata": {},
   "outputs": [],
   "source": [
    "means.plot()"
   ]
  }
 ],
 "metadata": {
  "kernelspec": {
   "display_name": "VEDA Documentation",
   "language": "python",
   "name": "env-veda-documentation"
  },
  "language_info": {
   "codemirror_mode": {
    "name": "ipython",
    "version": 3
   },
   "file_extension": ".py",
   "mimetype": "text/x-python",
   "name": "python",
   "nbconvert_exporter": "python",
   "pygments_lexer": "ipython3",
   "version": "3.8.3"
  }
 },
 "nbformat": 4,
 "nbformat_minor": 5
}
