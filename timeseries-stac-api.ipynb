{
 "cells": [
  {
   "cell_type": "markdown",
   "id": "eb4fb6e5",
   "metadata": {},
   "source": [
    "# Time series using STAC API statistics endpoints\n",
    "\n",
    "This notebook demonstrates how to generate a timeseries using STAC API statistics endpoints.\n",
    "\n",
    "* Author: Leo Thomas\n",
    "* Lasted Updated Date: June 29, 2022"
   ]
  },
  {
   "cell_type": "code",
   "execution_count": 1,
   "id": "a21597e1",
   "metadata": {},
   "outputs": [],
   "source": [
    "import concurrent.futures\n",
    "import datetime as dt\n",
    "from ipyleaflet import basemaps, Map, GeoJSON\n",
    "import json\n",
    "import requests as re\n",
    "import matplotlib.pyplot as plt\n",
    "import pprint\n",
    "import time\n",
    "\n",
    "STAC_API_URL = \"https://staging-stac.delta-backend.xyz\"\n",
    "RASTER_API_URL = \"https://staging-raster.delta-backend.xyz\""
   ]
  },
  {
   "cell_type": "markdown",
   "id": "e586af7a",
   "metadata": {},
   "source": [
    "# Declare your collection of interest\n",
    "\n",
    "You can discover available collections the following ways:\n",
    "\n",
    "* Use the `{STAC_ENDPOINT_URL}/collections` API endpoint (JSON response)\n",
    "* Programmatically using `pystac` (see example in the `list-collections.ipynb` notebook\n",
    "* In the STAC Browser: http://delta-staging-stac-browser.s3-website-us-east-1.amazonaws.com/\n"
   ]
  },
  {
   "cell_type": "code",
   "execution_count": 2,
   "id": "b811b704",
   "metadata": {},
   "outputs": [],
   "source": [
    "collection = 'no2-monthly'"
   ]
  },
  {
   "cell_type": "markdown",
   "id": "924655ba",
   "metadata": {},
   "source": [
    "## Discover data using the STAC endpoint"
   ]
  },
  {
   "cell_type": "code",
   "execution_count": 3,
   "id": "b53ee50a",
   "metadata": {
    "scrolled": false
   },
   "outputs": [
    {
     "data": {
      "text/plain": [
       "{'id': 'no2-monthly',\n",
       " 'type': 'Collection',\n",
       " 'links': [{'rel': 'items',\n",
       "   'type': 'application/geo+json',\n",
       "   'href': 'https://staging-stac.delta-backend.xyz/collections/no2-monthly/items'},\n",
       "  {'rel': 'parent',\n",
       "   'type': 'application/json',\n",
       "   'href': 'https://staging-stac.delta-backend.xyz/'},\n",
       "  {'rel': 'root',\n",
       "   'type': 'application/json',\n",
       "   'href': 'https://staging-stac.delta-backend.xyz/'},\n",
       "  {'rel': 'self',\n",
       "   'type': 'application/json',\n",
       "   'href': 'https://staging-stac.delta-backend.xyz/collections/no2-monthly'}],\n",
       " 'title': 'NO₂',\n",
       " 'extent': {'spatial': {'bbox': [[-180, -90, 180, 90]]},\n",
       "  'temporal': {'interval': [['2016-01-01T00:00:00Z',\n",
       "     '2022-01-01T00:00:00Z']]}},\n",
       " 'license': 'MIT',\n",
       " 'summaries': {'datetime': ['2016-01-01T00:00:00Z', '2022-05-01T00:00:00Z'],\n",
       "  'cog_default': {'max': 50064805976866816, 'min': -6618294421291008}},\n",
       " 'description': 'Darker colors indicate higher nitrogen dioxide (NO₂) levels and more activity. Lighter colors indicate lower levels of NO₂ and less activity. Missing pixels indicate areas of no data most likely associated with cloud cover or snow.',\n",
       " 'item_assets': {'cog_default': {'type': 'image/tiff; application=geotiff; profile=cloud-optimized',\n",
       "   'roles': ['data', 'layer'],\n",
       "   'title': 'Default COG Layer',\n",
       "   'description': 'Cloud optimized default layer to display on map'}},\n",
       " 'stac_version': '1.0.0',\n",
       " 'stac_extensions': ['https://stac-extensions.github.io/item-assets/v1.0.0/schema.json'],\n",
       " 'dashboard:is_periodic': True,\n",
       " 'dashboard:time_density': 'month'}"
      ]
     },
     "execution_count": 3,
     "metadata": {},
     "output_type": "execute_result"
    }
   ],
   "source": [
    "re.get(f\"{STAC_API_URL}/collections/{collection}\").json()"
   ]
  },
  {
   "cell_type": "markdown",
   "id": "ea8ac8a9",
   "metadata": {},
   "source": [
    "## Describe the periodic nature of the data"
   ]
  },
  {
   "cell_type": "code",
   "execution_count": 4,
   "id": "1cb72339",
   "metadata": {
    "scrolled": true
   },
   "outputs": [
    {
     "ename": "NameError",
     "evalue": "name 'STAC_ENDPOINT_URL' is not defined",
     "output_type": "error",
     "traceback": [
      "\u001b[0;31m---------------------------------------------------------------------------\u001b[0m",
      "\u001b[0;31mNameError\u001b[0m                                 Traceback (most recent call last)",
      "\u001b[0;32m/var/folders/jh/_03qbqf130l8hjh8rpc6f4_c0000gn/T/ipykernel_24718/2281761745.py\u001b[0m in \u001b[0;36m<module>\u001b[0;34m\u001b[0m\n\u001b[1;32m      1\u001b[0m pprint.pprint({\n\u001b[0;32m----> 2\u001b[0;31m     \u001b[0mk\u001b[0m\u001b[0;34m:\u001b[0m\u001b[0mv\u001b[0m \u001b[0;32mfor\u001b[0m \u001b[0mk\u001b[0m\u001b[0;34m,\u001b[0m\u001b[0mv\u001b[0m \u001b[0;32min\u001b[0m \u001b[0mre\u001b[0m\u001b[0;34m.\u001b[0m\u001b[0mget\u001b[0m\u001b[0;34m(\u001b[0m\u001b[0;34mf\"{STAC_ENDPOINT_URL}/collections/no2-monthly\"\u001b[0m\u001b[0;34m)\u001b[0m\u001b[0;34m.\u001b[0m\u001b[0mjson\u001b[0m\u001b[0;34m(\u001b[0m\u001b[0;34m)\u001b[0m\u001b[0;34m.\u001b[0m\u001b[0mitems\u001b[0m\u001b[0;34m(\u001b[0m\u001b[0;34m)\u001b[0m\u001b[0;34m\u001b[0m\u001b[0;34m\u001b[0m\u001b[0m\n\u001b[0m\u001b[1;32m      3\u001b[0m     \u001b[0;32mif\u001b[0m \u001b[0mk\u001b[0m \u001b[0;32min\u001b[0m \u001b[0;34m[\u001b[0m\u001b[0;34m\"dashboard:is_periodic\"\u001b[0m\u001b[0;34m,\u001b[0m \u001b[0;34m\"dashboard:time_density\"\u001b[0m\u001b[0;34m,\u001b[0m \u001b[0;34m\"summaries\"\u001b[0m\u001b[0;34m]\u001b[0m\u001b[0;34m\u001b[0m\u001b[0;34m\u001b[0m\u001b[0m\n\u001b[1;32m      4\u001b[0m })\n",
      "\u001b[0;31mNameError\u001b[0m: name 'STAC_ENDPOINT_URL' is not defined"
     ]
    }
   ],
   "source": [
    "pprint.pprint({\n",
    "    k:v for k,v in re.get(f\"{STAC_ENDPOINT_URL}/collections/no2-monthly\").json().items()\n",
    "    if k in [\"dashboard:is_periodic\", \"dashboard:time_density\", \"summaries\"]\n",
    "})"
   ]
  },
  {
   "cell_type": "markdown",
   "id": "e1744bcd",
   "metadata": {},
   "source": [
    "## Load and inspect one of the STAC items\n",
    "\n",
    "This step is just for demonstration, to inspect what an item looks like."
   ]
  },
  {
   "cell_type": "code",
   "execution_count": null,
   "id": "a1554809",
   "metadata": {},
   "outputs": [],
   "source": [
    "items = re.get(f\"{STAC_ENDPOINT_URL}/collections/{collection}/items?limit=100\").json()[\"features\"]\n",
    "items[0]"
   ]
  },
  {
   "cell_type": "markdown",
   "id": "b95b2001",
   "metadata": {},
   "source": [
    "## Define a bounding box\n",
    "\n",
    "We've defined a bounding box for France in this case."
   ]
  },
  {
   "cell_type": "code",
   "execution_count": null,
   "id": "e60f264c",
   "metadata": {},
   "outputs": [],
   "source": [
    "bounding_box_france = { \n",
    "    \"type\": \"Feature\",\n",
    "    \"properties\": {},\n",
    "    \"geometry\": {\n",
    "        \"type\": \"Polygon\",\n",
    "        \"coordinates\": [[\n",
    "            [\n",
    "              -5.4534286,\n",
    "              41.2632185\n",
    "            ],\n",
    "            [\n",
    "              9.8678344,\n",
    "              41.2632185\n",
    "            ],\n",
    "            [\n",
    "              9.8678344,\n",
    "              51.268318\n",
    "            ],\n",
    "            [\n",
    "              -5.4534286,\n",
    "              51.268318\n",
    "            ],\n",
    "            [\n",
    "              -5.4534286,\n",
    "              41.2632185\n",
    "            ]\n",
    "        ]]\n",
    "    }\n",
    "}\n",
    "\n"
   ]
  },
  {
   "cell_type": "markdown",
   "id": "e287ce5b",
   "metadata": {},
   "source": [
    "## Map the bounding box\n",
    "\n",
    "This step is for visual inspection of the bounding box."
   ]
  },
  {
   "cell_type": "code",
   "execution_count": null,
   "id": "c7586f0d",
   "metadata": {
    "scrolled": false
   },
   "outputs": [],
   "source": [
    "m = Map(\n",
    "    basemap=basemaps.OpenStreetMap.Mapnik,\n",
    "    center=(47,4),\n",
    "    zoom=3\n",
    ")\n",
    "geo = GeoJSON(\n",
    "    data=bounding_box_france,\n",
    "    style={\"color\": \"red\", \"fillOpacity\": 0}\n",
    ")\n",
    "m.add_layer(geo)\n",
    "m"
   ]
  },
  {
   "cell_type": "markdown",
   "id": "b72be43c",
   "metadata": {},
   "source": [
    "## Use `/cog/statistics` to get data for the bounding box\n",
    "\n",
    "First, we create a `generate_stats` function and then we call it with the bounding box defined for France."
   ]
  },
  {
   "cell_type": "code",
   "execution_count": null,
   "id": "4ba40c1a",
   "metadata": {},
   "outputs": [],
   "source": [
    "def generate_stats(items, bounding_box):\n",
    "    stats = [\n",
    "        {\n",
    "            **re.post(\n",
    "                f\"{RASTER_API_URL}/cog/statistics\", \n",
    "                params={\n",
    "                    \"url\":item[\"assets\"][\"cog_default\"][\"href\"]\n",
    "                },\n",
    "                json=bounding_box\n",
    "            ).json()[\"properties\"], \n",
    "             \"start_datetime\":item[\"properties\"][\"start_datetime\"]\n",
    "        }\n",
    "        for item in items\n",
    "    ]\n",
    "    return stats"
   ]
  },
  {
   "cell_type": "markdown",
   "id": "69e112b7",
   "metadata": {},
   "source": [
    "## Generate and estimate time to generate statistics\n",
    "\n",
    "This may take a minute, depending on the network."
   ]
  },
  {
   "cell_type": "code",
   "execution_count": null,
   "id": "4f859305",
   "metadata": {
    "scrolled": true
   },
   "outputs": [],
   "source": [
    "start = time.time()\n",
    "stats = generate_stats(items, bounding_box_france)\n",
    "end = time.time()\n",
    "print(f\"Elapsed time for small bounding box (france) {round(end-start,2)} seconds. Items queried: {len(items)}\")"
   ]
  },
  {
   "cell_type": "markdown",
   "id": "83a4e608",
   "metadata": {},
   "source": [
    "## Inspect one result"
   ]
  },
  {
   "cell_type": "code",
   "execution_count": null,
   "id": "5340a615",
   "metadata": {},
   "outputs": [],
   "source": [
    "stats[1]"
   ]
  },
  {
   "cell_type": "code",
   "execution_count": null,
   "id": "85641f5f",
   "metadata": {},
   "outputs": [],
   "source": [
    "dates = [dt.datetime.strptime(stat[\"start_datetime\"], \"%Y-%m-%dT%H:%M:%SZ\") for stat in stats]\n",
    "means = [stat[\"statistics\"][\"1\"][\"mean\"] for stat in stats]\n",
    "std_devs = [stat[\"statistics\"][\"1\"][\"std\"] for stat in stats]\n",
    "upper_bounds = [m+s for (m,s) in zip(means, std_devs)]\n",
    "lower_bounds = [m-s for (m,s) in zip(means, std_devs)]"
   ]
  },
  {
   "cell_type": "code",
   "execution_count": null,
   "id": "e45a4ee7",
   "metadata": {},
   "outputs": [],
   "source": [
    "plt.plot(dates, means, 'black')\n",
    "plt.fill_between(dates, upper_bounds, lower_bounds, facecolor=\"lightgrey\", interpolate=True)"
   ]
  }
 ],
 "metadata": {
  "kernelspec": {
   "display_name": "Python 3 (ipykernel)",
   "language": "python",
   "name": "python3"
  },
  "language_info": {
   "codemirror_mode": {
    "name": "ipython",
    "version": 3
   },
   "file_extension": ".py",
   "mimetype": "text/x-python",
   "name": "python",
   "nbconvert_exporter": "python",
   "pygments_lexer": "ipython3",
   "version": "3.9.7"
  }
 },
 "nbformat": 4,
 "nbformat_minor": 5
}
