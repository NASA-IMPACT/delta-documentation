{
 "cells": [
  {
   "cell_type": "markdown",
   "id": "eb4fb6e5",
   "metadata": {},
   "source": [
    "# Time series using STAC API statistics endpoints\n",
    "\n",
    "This notebook demonstrates how to generate a timeseries using STAC API statistics endpoints.\n",
    "\n",
    "* Author: Leo Thomas\n",
    "* Lasted Updated Date: June 29, 2022"
   ]
  },
  {
   "cell_type": "code",
   "execution_count": 1,
   "id": "a21597e1",
   "metadata": {},
   "outputs": [],
   "source": [
    "import concurrent.futures\n",
    "import datetime as dt\n",
    "from ipyleaflet import basemaps, Map, GeoJSON\n",
    "import json\n",
    "import requests as re\n",
    "import matplotlib.pyplot as plt\n",
    "import pprint\n",
    "import time\n",
    "\n",
    "STAC_API_URL = \"https://staging-stac.delta-backend.com\"\n",
    "RASTER_API_URL = \"https://staging-raster.delta-backend.com\""
   ]
  },
  {
   "cell_type": "markdown",
   "id": "e586af7a",
   "metadata": {},
   "source": [
    "# Declare your collection of interest\n",
    "\n",
    "You can discover available collections the following ways:\n",
    "\n",
    "* Use the `{STAC_ENDPOINT_URL}/collections` API endpoint (JSON response)\n",
    "* Programmatically using `pystac` (see example in the `list-collections.ipynb` notebook\n",
    "* In the STAC Browser: http://delta-staging-stac-browser.s3-website-us-east-1.amazonaws.com/\n"
   ]
  },
  {
   "cell_type": "code",
   "execution_count": 2,
   "id": "b811b704",
   "metadata": {},
   "outputs": [],
   "source": [
    "collection = 'no2-monthly'"
   ]
  },
  {
   "cell_type": "markdown",
   "id": "924655ba",
   "metadata": {},
   "source": [
    "## Discover data using the STAC endpoint"
   ]
  },
  {
   "cell_type": "code",
   "execution_count": 3,
   "id": "b53ee50a",
   "metadata": {
    "scrolled": false
   },
   "outputs": [
    {
     "data": {
      "text/plain": [
       "{'id': 'no2-monthly',\n",
       " 'type': 'Collection',\n",
       " 'links': [{'rel': 'items',\n",
       "   'type': 'application/geo+json',\n",
       "   'href': 'https://staging-stac.delta-backend.com/collections/no2-monthly/items'},\n",
       "  {'rel': 'parent',\n",
       "   'type': 'application/json',\n",
       "   'href': 'https://staging-stac.delta-backend.com/'},\n",
       "  {'rel': 'root',\n",
       "   'type': 'application/json',\n",
       "   'href': 'https://staging-stac.delta-backend.com/'},\n",
       "  {'rel': 'self',\n",
       "   'type': 'application/json',\n",
       "   'href': 'https://staging-stac.delta-backend.com/collections/no2-monthly'}],\n",
       " 'title': 'NO₂',\n",
       " 'extent': {'spatial': {'bbox': [[-180, -90, 180, 90]]},\n",
       "  'temporal': {'interval': [['2016-01-01T00:00:00Z',\n",
       "     '2022-01-01T00:00:00Z']]}},\n",
       " 'license': 'MIT',\n",
       " 'summaries': {'datetime': ['2016-01-01T00:00:00Z', '2022-05-01T00:00:00Z'],\n",
       "  'cog_default': {'max': 50064805976866816, 'min': -6618294421291008}},\n",
       " 'description': 'Darker colors indicate higher nitrogen dioxide (NO₂) levels and more activity. Lighter colors indicate lower levels of NO₂ and less activity. Missing pixels indicate areas of no data most likely associated with cloud cover or snow.',\n",
       " 'item_assets': {'cog_default': {'type': 'image/tiff; application=geotiff; profile=cloud-optimized',\n",
       "   'roles': ['data', 'layer'],\n",
       "   'title': 'Default COG Layer',\n",
       "   'description': 'Cloud optimized default layer to display on map'}},\n",
       " 'stac_version': '1.0.0',\n",
       " 'stac_extensions': ['https://stac-extensions.github.io/item-assets/v1.0.0/schema.json'],\n",
       " 'dashboard:is_periodic': True,\n",
       " 'dashboard:time_density': 'month'}"
      ]
     },
     "execution_count": 3,
     "metadata": {},
     "output_type": "execute_result"
    }
   ],
   "source": [
    "re.get(f\"{STAC_API_URL}/collections/{collection}\").json()"
   ]
  },
  {
   "cell_type": "markdown",
   "id": "ea8ac8a9",
   "metadata": {},
   "source": [
    "## Describe the periodic nature of the data"
   ]
  },
  {
   "cell_type": "code",
   "execution_count": 5,
   "id": "1cb72339",
   "metadata": {
    "scrolled": true
   },
   "outputs": [
    {
     "name": "stdout",
     "output_type": "stream",
     "text": [
      "{'dashboard:is_periodic': True,\n",
      " 'dashboard:time_density': 'month',\n",
      " 'summaries': {'cog_default': {'max': 50064805976866816,\n",
      "                               'min': -6618294421291008},\n",
      "               'datetime': ['2016-01-01T00:00:00Z', '2022-05-01T00:00:00Z']}}\n"
     ]
    }
   ],
   "source": [
    "pprint.pprint({\n",
    "    k:v for k,v in re.get(f\"{STAC_API_URL}/collections/no2-monthly\").json().items()\n",
    "    if k in [\"dashboard:is_periodic\", \"dashboard:time_density\", \"summaries\"]\n",
    "})"
   ]
  },
  {
   "cell_type": "markdown",
   "id": "e1744bcd",
   "metadata": {},
   "source": [
    "## Load and inspect one of the STAC items\n",
    "\n",
    "This step is just for demonstration, to inspect what an item looks like."
   ]
  },
  {
   "cell_type": "code",
   "execution_count": 7,
   "id": "a1554809",
   "metadata": {},
   "outputs": [
    {
     "data": {
      "text/plain": [
       "{'id': 'OMI_trno2_monthly_0.10x0.10_202205_Col3_V4.nc',\n",
       " 'bbox': [-180.0, -90.0, 180.0, 90.0],\n",
       " 'type': 'Feature',\n",
       " 'links': [{'rel': 'collection',\n",
       "   'type': 'application/json',\n",
       "   'href': 'https://staging-stac.delta-backend.com/collections/no2-monthly'},\n",
       "  {'rel': 'parent',\n",
       "   'type': 'application/json',\n",
       "   'href': 'https://staging-stac.delta-backend.com/collections/no2-monthly'},\n",
       "  {'rel': 'root',\n",
       "   'type': 'application/json',\n",
       "   'href': 'https://staging-stac.delta-backend.com/'},\n",
       "  {'rel': 'self',\n",
       "   'type': 'application/geo+json',\n",
       "   'href': 'https://staging-stac.delta-backend.com/collections/no2-monthly/items/OMI_trno2_monthly_0.10x0.10_202205_Col3_V4.nc'}],\n",
       " 'assets': {'cog_default': {'href': 's3://veda-data-store-staging/no2-monthly/OMI_trno2_monthly_0.10x0.10_202205_Col3_V4.nc.tif',\n",
       "   'type': 'image/tiff; application=geotiff; profile=cloud-optimized',\n",
       "   'roles': ['data', 'layer'],\n",
       "   'raster:bands': [{'scale': 1.0,\n",
       "     'nodata': -1.2676506002282294e+30,\n",
       "     'offset': 0.0,\n",
       "     'sampling': 'area',\n",
       "     'data_type': 'float32',\n",
       "     'histogram': {'max': 16009167399550976,\n",
       "      'min': -2647376502194176.0,\n",
       "      'count': 11,\n",
       "      'buckets': [254, 378517, 28452, 2275, 668, 196, 31, 15, 5, 2]},\n",
       "     'statistics': {'mean': 420353736794736.56,\n",
       "      'stddev': 570417159377508.8,\n",
       "      'maximum': 16009167399550976,\n",
       "      'minimum': -2647376502194176.0,\n",
       "      'valid_percent': 78.28044891357422}}]}},\n",
       " 'geometry': {'type': 'Polygon',\n",
       "  'coordinates': [[[-180.0, -90.0],\n",
       "    [180.0, -90.0],\n",
       "    [180.0, 90.0],\n",
       "    [-180.0, 90.0],\n",
       "    [-180.0, -90.0]]]},\n",
       " 'collection': 'no2-monthly',\n",
       " 'properties': {'datetime': None,\n",
       "  'proj:bbox': [-180.0, -90.0, 180.0, 90.0],\n",
       "  'proj:epsg': 4326,\n",
       "  'proj:shape': [1800, 3600],\n",
       "  'end_datetime': '2022-05-31T00:00:00Z',\n",
       "  'proj:geometry': {'type': 'Polygon',\n",
       "   'coordinates': [[[-180.0, -90.0],\n",
       "     [180.0, -90.0],\n",
       "     [180.0, 90.0],\n",
       "     [-180.0, 90.0],\n",
       "     [-180.0, -90.0]]]},\n",
       "  'proj:transform': [0.1, 0.0, -180.0, 0.0, -0.1, 90.0, 0.0, 0.0, 1.0],\n",
       "  'start_datetime': '2022-05-01T00:00:00Z'},\n",
       " 'stac_version': '1.0.0',\n",
       " 'stac_extensions': ['https://stac-extensions.github.io/projection/v1.0.0/schema.json',\n",
       "  'https://stac-extensions.github.io/raster/v1.1.0/schema.json']}"
      ]
     },
     "execution_count": 7,
     "metadata": {},
     "output_type": "execute_result"
    }
   ],
   "source": [
    "items = re.get(f\"{STAC_API_URL}/collections/{collection}/items?limit=100\").json()[\"features\"]\n",
    "items[0]"
   ]
  },
  {
   "cell_type": "markdown",
   "id": "b95b2001",
   "metadata": {},
   "source": [
    "## Define a bounding box\n",
    "\n",
    "We've defined a bounding box for France in this case."
   ]
  },
  {
   "cell_type": "code",
   "execution_count": 8,
   "id": "e60f264c",
   "metadata": {},
   "outputs": [],
   "source": [
    "bounding_box_france = { \n",
    "    \"type\": \"Feature\",\n",
    "    \"properties\": {},\n",
    "    \"geometry\": {\n",
    "        \"type\": \"Polygon\",\n",
    "        \"coordinates\": [[\n",
    "            [\n",
    "              -5.4534286,\n",
    "              41.2632185\n",
    "            ],\n",
    "            [\n",
    "              9.8678344,\n",
    "              41.2632185\n",
    "            ],\n",
    "            [\n",
    "              9.8678344,\n",
    "              51.268318\n",
    "            ],\n",
    "            [\n",
    "              -5.4534286,\n",
    "              51.268318\n",
    "            ],\n",
    "            [\n",
    "              -5.4534286,\n",
    "              41.2632185\n",
    "            ]\n",
    "        ]]\n",
    "    }\n",
    "}\n",
    "\n"
   ]
  },
  {
   "cell_type": "markdown",
   "id": "e287ce5b",
   "metadata": {},
   "source": [
    "## Map the bounding box\n",
    "\n",
    "This step is for visual inspection of the bounding box."
   ]
  },
  {
   "cell_type": "code",
   "execution_count": 9,
   "id": "c7586f0d",
   "metadata": {
    "scrolled": false
   },
   "outputs": [
    {
     "data": {
      "application/vnd.jupyter.widget-view+json": {
       "model_id": "f686dcad7af7470d890cefd62b1bafa0",
       "version_major": 2,
       "version_minor": 0
      },
      "text/plain": [
       "Map(center=[47, 4], controls=(ZoomControl(options=['position', 'zoom_in_text', 'zoom_in_title', 'zoom_out_text…"
      ]
     },
     "metadata": {},
     "output_type": "display_data"
    }
   ],
   "source": [
    "m = Map(\n",
    "    basemap=basemaps.OpenStreetMap.Mapnik,\n",
    "    center=(47,4),\n",
    "    zoom=3\n",
    ")\n",
    "geo = GeoJSON(\n",
    "    data=bounding_box_france,\n",
    "    style={\"color\": \"red\", \"fillOpacity\": 0}\n",
    ")\n",
    "m.add_layer(geo)\n",
    "m"
   ]
  },
  {
   "cell_type": "markdown",
   "id": "b72be43c",
   "metadata": {},
   "source": [
    "## Use `/cog/statistics` to get data for the bounding box\n",
    "\n",
    "First, we create a `generate_stats` function and then we call it with the bounding box defined for France."
   ]
  },
  {
   "cell_type": "code",
   "execution_count": 10,
   "id": "4ba40c1a",
   "metadata": {},
   "outputs": [],
   "source": [
    "def generate_stats(items, bounding_box):\n",
    "    stats = [\n",
    "        {\n",
    "            **re.post(\n",
    "                f\"{RASTER_API_URL}/cog/statistics\", \n",
    "                params={\n",
    "                    \"url\":item[\"assets\"][\"cog_default\"][\"href\"]\n",
    "                },\n",
    "                json=bounding_box\n",
    "            ).json()[\"properties\"], \n",
    "             \"start_datetime\":item[\"properties\"][\"start_datetime\"]\n",
    "        }\n",
    "        for item in items\n",
    "    ]\n",
    "    return stats"
   ]
  },
  {
   "cell_type": "markdown",
   "id": "69e112b7",
   "metadata": {},
   "source": [
    "## Generate and estimate time to generate statistics\n",
    "\n",
    "This may take a minute, depending on the network."
   ]
  },
  {
   "cell_type": "code",
   "execution_count": 11,
   "id": "4f859305",
   "metadata": {
    "scrolled": true
   },
   "outputs": [
    {
     "name": "stdout",
     "output_type": "stream",
     "text": [
      "Elapsed time for small bounding box (france) 124.64 seconds. Items queried: 77\n"
     ]
    }
   ],
   "source": [
    "start = time.time()\n",
    "stats = generate_stats(items, bounding_box_france)\n",
    "end = time.time()\n",
    "print(f\"Elapsed time for small bounding box (france) {round(end-start,2)} seconds. Items queried: {len(items)}\")"
   ]
  },
  {
   "cell_type": "markdown",
   "id": "83a4e608",
   "metadata": {},
   "source": [
    "## Inspect one result"
   ]
  },
  {
   "cell_type": "code",
   "execution_count": 12,
   "id": "5340a615",
   "metadata": {},
   "outputs": [
    {
     "data": {
      "text/plain": [
       "{'statistics': {'1': {'min': -1686681841303552.0,\n",
       "   'max': 8037704876949504.0,\n",
       "   'mean': 1719699112594799.0,\n",
       "   'count': 15200.0,\n",
       "   'sum': 2.6139426511440945e+19,\n",
       "   'std': 1311942344229939.8,\n",
       "   'median': 1358823029735424.0,\n",
       "   'majority': 537238232367104.0,\n",
       "   'minority': -1686681841303552.0,\n",
       "   'unique': 15194.0,\n",
       "   'histogram': [[7.0,\n",
       "     568.0,\n",
       "     6212.0,\n",
       "     4554.0,\n",
       "     2093.0,\n",
       "     819.0,\n",
       "     437.0,\n",
       "     271.0,\n",
       "     182.0,\n",
       "     57.0],\n",
       "    [-1686681841303552.0,\n",
       "     -714243169478246.4,\n",
       "     258195502347059.25,\n",
       "     1230634174172365.0,\n",
       "     2203072845997670.5,\n",
       "     3175511517822976.0,\n",
       "     4147950189648282.0,\n",
       "     5120388861473587.0,\n",
       "     6092827533298893.0,\n",
       "     7065266205124199.0,\n",
       "     8037704876949504.0]],\n",
       "   'valid_percent': 99.35,\n",
       "   'masked_pixels': 100.0,\n",
       "   'valid_pixels': 15200.0,\n",
       "   'percentile_98': 5865060032776768.0,\n",
       "   'percentile_2': 116917669524930.58}},\n",
       " 'start_datetime': '2022-04-01T00:00:00Z'}"
      ]
     },
     "execution_count": 12,
     "metadata": {},
     "output_type": "execute_result"
    }
   ],
   "source": [
    "stats[1]"
   ]
  },
  {
   "cell_type": "code",
   "execution_count": 13,
   "id": "85641f5f",
   "metadata": {},
   "outputs": [],
   "source": [
    "dates = [dt.datetime.strptime(stat[\"start_datetime\"], \"%Y-%m-%dT%H:%M:%SZ\") for stat in stats]\n",
    "means = [stat[\"statistics\"][\"1\"][\"mean\"] for stat in stats]\n",
    "std_devs = [stat[\"statistics\"][\"1\"][\"std\"] for stat in stats]\n",
    "upper_bounds = [m+s for (m,s) in zip(means, std_devs)]\n",
    "lower_bounds = [m-s for (m,s) in zip(means, std_devs)]"
   ]
  },
  {
   "cell_type": "code",
   "execution_count": 14,
   "id": "e45a4ee7",
   "metadata": {},
   "outputs": [
    {
     "data": {
      "text/plain": [
       "<matplotlib.collections.PolyCollection at 0x18274a310>"
      ]
     },
     "execution_count": 14,
     "metadata": {},
     "output_type": "execute_result"
    },
    {
     "data": {
      "image/png": "[encoded data removed]",
      "text/plain": [
       "<Figure size 432x288 with 1 Axes>"
      ]
     },
     "metadata": {
      "needs_background": "light"
     },
     "output_type": "display_data"
    }
   ],
   "source": [
    "plt.plot(dates, means, 'black')\n",
    "plt.fill_between(dates, upper_bounds, lower_bounds, facecolor=\"lightgrey\", interpolate=True)"
   ]
  }
 ],
 "metadata": {
  "kernelspec": {
   "display_name": "Python 3 (ipykernel)",
   "language": "python",
   "name": "python3"
  },
  "language_info": {
   "codemirror_mode": {
    "name": "ipython",
    "version": 3
   },
   "file_extension": ".py",
   "mimetype": "text/x-python",
   "name": "python",
   "nbconvert_exporter": "python",
   "pygments_lexer": "ipython3",
   "version": "3.9.7"
  }
 },
 "nbformat": 4,
 "nbformat_minor": 5
}
